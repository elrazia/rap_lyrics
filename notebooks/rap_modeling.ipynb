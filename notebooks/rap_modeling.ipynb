{
 "cells": [
  {
   "cell_type": "code",
   "execution_count": 1,
   "metadata": {
    "collapsed": true
   },
   "outputs": [],
   "source": [
    "import pandas as pd\n",
    "import numpy as np\n",
    "from datetime import datetime\n",
    "import os\n",
    "import pickle\n",
    "import matplotlib.pyplot as plt\n",
    "from sklearn.feature_extraction.stop_words import ENGLISH_STOP_WORDS\n",
    "%matplotlib inline"
   ]
  },
  {
   "cell_type": "code",
   "execution_count": 2,
   "metadata": {
    "collapsed": true
   },
   "outputs": [],
   "source": [
    "# read in 'corpora' files, dictionaries, and convert them to dfs\n",
    "frame_one = pd.DataFrame(\n",
    "    pd.read_pickle('/home/elrazia/rap_lyrics/notebooks/corpora/corpus_one.pkl')).T.reset_index()\n",
    "frame_two = pd.DataFrame(\n",
    "    pd.read_pickle('/home/elrazia/rap_lyrics/notebooks/corpora/corpus_two.pkl')).T.reset_index()\n",
    "frame_three = pd.DataFrame(\n",
    "    pd.read_pickle('/home/elrazia/rap_lyrics/notebooks/corpora/corpus_three.pkl')).T.reset_index()\n",
    "frame_four = pd.DataFrame(\n",
    "    pd.read_pickle('/home/elrazia/rap_lyrics/notebooks/corpora/corpus_four.pkl')).T.reset_index()"
   ]
  },
  {
   "cell_type": "code",
   "execution_count": 36,
   "metadata": {
    "collapsed": true
   },
   "outputs": [],
   "source": [
    "# concat four frames into one big dataframe, 'rap_frame'\n",
    "rap_frame = pd.concat([frame_one, frame_two, frame_three, frame_four]).reset_index()\n",
    "rap_frame = rap_frame.drop('index', axis=1)"
   ]
  },
  {
   "cell_type": "markdown",
   "metadata": {},
   "source": [
    "## Cleaning frame"
   ]
  },
  {
   "cell_type": "code",
   "execution_count": 37,
   "metadata": {
    "collapsed": true
   },
   "outputs": [],
   "source": [
    "rap_frame.columns = ['title', 'artist', 'date', 'lyrics']"
   ]
  },
  {
   "cell_type": "code",
   "execution_count": 38,
   "metadata": {
    "collapsed": true
   },
   "outputs": [],
   "source": [
    "def year_grab(date_array):\n",
    "    \n",
    "    ''' Takes in array of dates, returns new array containing only year'''\n",
    "    \n",
    "    new_dates = []\n",
    "    for date in date_array:\n",
    "        if len(date)>0:\n",
    "            new_dates.append(int(date.strip().split(', ')[1]))\n",
    "        else:\n",
    "            new_dates.append(date)\n",
    "    return new_dates"
   ]
  },
  {
   "cell_type": "code",
   "execution_count": 39,
   "metadata": {
    "collapsed": true
   },
   "outputs": [],
   "source": [
    "# convert 'date' column to only year values\n",
    "rap_frame['date'] = year_grab(rap_frame.date)"
   ]
  },
  {
   "cell_type": "code",
   "execution_count": 40,
   "metadata": {
    "collapsed": true
   },
   "outputs": [],
   "source": [
    "# drop rows with release dates prior to 1980\n",
    "rap_frame = rap_frame[rap_frame.date > 1980]"
   ]
  },
  {
   "cell_type": "code",
   "execution_count": 15,
   "metadata": {
    "collapsed": false
   },
   "outputs": [],
   "source": [
    "with open('rap_frame.pkl', 'wb') as writefile:\n",
    "    pickle.dump(rap_frame, writefile)"
   ]
  },
  {
   "cell_type": "code",
   "execution_count": 41,
   "metadata": {
    "collapsed": true
   },
   "outputs": [],
   "source": [
    "# column for main artist, ignoring featured artists\n",
    "rap_frame['primary'] = rap_frame['artist'].apply(lambda x: x[0])"
   ]
  },
  {
   "cell_type": "code",
   "execution_count": 42,
   "metadata": {
    "collapsed": true
   },
   "outputs": [],
   "source": [
    "# create separate df with value counts\n",
    "counts_df = rap_frame['primary'].value_counts()\n",
    "\n",
    "value_frame = pd.DataFrame({ 'primary': counts_df.index.tolist(), \n",
    "                             'counts': counts_df.values.tolist() })"
   ]
  },
  {
   "cell_type": "code",
   "execution_count": 43,
   "metadata": {
    "collapsed": true
   },
   "outputs": [],
   "source": [
    "# merge two dfs to add 'primary artist' and 'value counts' columns\n",
    "rap_frame = pd.merge(rap_frame,value_frame, on='primary')"
   ]
  },
  {
   "cell_type": "code",
   "execution_count": 44,
   "metadata": {
    "collapsed": true
   },
   "outputs": [],
   "source": [
    "# exclude artists who appear in less than 10 songs\n",
    "rap_frame = rap_frame[rap_frame['counts'] > 10]"
   ]
  },
  {
   "cell_type": "markdown",
   "metadata": {
    "collapsed": true
   },
   "source": [
    "## Initial K-Means"
   ]
  },
  {
   "cell_type": "markdown",
   "metadata": {
    "collapsed": true
   },
   "source": [
    "#### Vectorizing"
   ]
  },
  {
   "cell_type": "code",
   "execution_count": 45,
   "metadata": {
    "collapsed": true
   },
   "outputs": [],
   "source": [
    "from sklearn.feature_extraction.text import TfidfVectorizer"
   ]
  },
  {
   "cell_type": "code",
   "execution_count": 46,
   "metadata": {
    "collapsed": true
   },
   "outputs": [],
   "source": [
    "# English + custom stopwords\n",
    "stopwords = set(ENGLISH_STOP_WORDS.copy())\n",
    "stopwords.update(['bitch', 'fuck', 'nigga', 'niggas', 'motherfucker'])"
   ]
  },
  {
   "cell_type": "code",
   "execution_count": 47,
   "metadata": {
    "collapsed": false
   },
   "outputs": [],
   "source": [
    "tvectorizer = TfidfVectorizer(analyzer='word', min_df=.01, max_df=1000, max_features=20000, \n",
    "                              stop_words=stopwords)\n",
    "tfidf = tvectorizer.fit_transform(rap_frame['lyrics'])"
   ]
  },
  {
   "cell_type": "markdown",
   "metadata": {},
   "source": [
    "#### PCA"
   ]
  },
  {
   "cell_type": "code",
   "execution_count": 48,
   "metadata": {
    "collapsed": true
   },
   "outputs": [],
   "source": [
    "from sklearn.decomposition import PCA\n",
    "pca = PCA(n_components=10)\n",
    "prin_var = pca.fit(tfidf.toarray()) \n",
    "principal = pca.fit_transform(tfidf.toarray())\n",
    "pvars = prin_var.explained_variance_"
   ]
  },
  {
   "cell_type": "code",
   "execution_count": 50,
   "metadata": {
    "collapsed": false
   },
   "outputs": [
    {
     "data": {
      "text/plain": [
       "<matplotlib.text.Text at 0x7f0299b87d50>"
      ]
     },
     "execution_count": 50,
     "metadata": {},
     "output_type": "execute_result"
    },
    {
     "data": {
      "image/png": "[encoded data removed]",
      "text/plain": [
       "<matplotlib.figure.Figure at 0x7f0299bc0b10>"
      ]
     },
     "metadata": {},
     "output_type": "display_data"
    }
   ],
   "source": [
    "plt.plot(range(1,len(pvars)+1),pvars)\n",
    "plt.xlabel('Principal Components')\n",
    "plt.ylabel('Explained Variance')\n",
    "plt.title('Variance by Component Number')"
   ]
  },
  {
   "cell_type": "code",
   "execution_count": 51,
   "metadata": {
    "collapsed": true
   },
   "outputs": [],
   "source": [
    "# Elbow method: 2 components explain majority of variance\n",
    "pca = PCA(n_components=2)\n",
    "prin_var = pca.fit(tfidf.toarray()) \n",
    "principal = pca.fit_transform(tfidf.toarray())"
   ]
  },
  {
   "cell_type": "markdown",
   "metadata": {},
   "source": [
    "#### KMEANS"
   ]
  },
  {
   "cell_type": "code",
   "execution_count": 52,
   "metadata": {
    "collapsed": true
   },
   "outputs": [],
   "source": [
    "from sklearn.cluster import KMeans"
   ]
  },
  {
   "cell_type": "code",
   "execution_count": 53,
   "metadata": {
    "collapsed": true
   },
   "outputs": [],
   "source": [
    "# determine number of clusters\n",
    "n_inertia = []\n",
    "for i in range(1,15):\n",
    "    km = KMeans(n_clusters = i, init = 'k-means++', n_init=25, n_jobs=-1)\n",
    "    kmeans_pca_array = km.fit_transform(principal)\n",
    "    pca_clusters_array = km.predict(principal)\n",
    "    inertia = km.inertia_\n",
    "    n_inertia.append(inertia)"
   ]
  },
  {
   "cell_type": "code",
   "execution_count": 55,
   "metadata": {
    "collapsed": false
   },
   "outputs": [
    {
     "data": {
      "text/plain": [
       "[<matplotlib.lines.Line2D at 0x7f02947a5d50>]"
      ]
     },
     "execution_count": 55,
     "metadata": {},
     "output_type": "execute_result"
    },
    {
     "data": {
      "image/png": "[encoded data removed]",
      "text/plain": [
       "<matplotlib.figure.Figure at 0x7f0295073a10>"
      ]
     },
     "metadata": {},
     "output_type": "display_data"
    }
   ],
   "source": [
    "plt.xlabel('# of Clusters')\n",
    "plt.ylabel('Inertia')\n",
    "plt.plot(range(1,15),n_inertia)"
   ]
  },
  {
   "cell_type": "code",
   "execution_count": 56,
   "metadata": {
    "collapsed": true
   },
   "outputs": [],
   "source": [
    "# fit model with 4 clusters\n",
    "model = KMeans(n_clusters=4).fit(principal)\n",
    "kmean = model.predict(principal)\n",
    "rap_frame['kmean_pca'] = kmean"
   ]
  },
  {
   "cell_type": "code",
   "execution_count": 58,
   "metadata": {
    "collapsed": false
   },
   "outputs": [
    {
     "data": {
      "text/plain": [
       "0    23389\n",
       "2    17195\n",
       "1      576\n",
       "3      316\n",
       "Name: kmean_pca, dtype: int64"
      ]
     },
     "execution_count": 58,
     "metadata": {},
     "output_type": "execute_result"
    }
   ],
   "source": [
    "rap_frame.kmean_pca.value_counts()"
   ]
  },
  {
   "cell_type": "code",
   "execution_count": 68,
   "metadata": {
    "collapsed": false
   },
   "outputs": [
    {
     "data": {
      "text/plain": [
       "Eminem            311\n",
       "Nas               288\n",
       "Tech N9ne         264\n",
       "Lil Wayne         236\n",
       "Kendrick Lamar    219\n",
       "Name: primary, dtype: int64"
      ]
     },
     "execution_count": 68,
     "metadata": {},
     "output_type": "execute_result"
    }
   ],
   "source": [
    "rap_frame[rap_frame['kmean_pca'] == 2].primary.value_counts().head()"
   ]
  },
  {
   "cell_type": "code",
   "execution_count": 154,
   "metadata": {
    "collapsed": false
   },
   "outputs": [
    {
     "data": {
      "text/html": [
       "<div>\n",
       "<table border=\"1\" class=\"dataframe\">\n",
       "  <thead>\n",
       "    <tr style=\"text-align: right;\">\n",
       "      <th></th>\n",
       "      <th>title</th>\n",
       "      <th>artist</th>\n",
       "      <th>date</th>\n",
       "      <th>lyrics</th>\n",
       "      <th>primary</th>\n",
       "      <th>counts</th>\n",
       "      <th>kmean_pca</th>\n",
       "    </tr>\n",
       "  </thead>\n",
       "  <tbody>\n",
       "    <tr>\n",
       "      <th>251</th>\n",
       "      <td>398</td>\n",
       "      <td>[Jay Z,                   The Notorious B.I.G....</td>\n",
       "      <td>2002</td>\n",
       "      <td>[Refrain: Faith Evans]. Last night I had a dre...</td>\n",
       "      <td>Jay Z</td>\n",
       "      <td>335</td>\n",
       "      <td>0</td>\n",
       "    </tr>\n",
       "    <tr>\n",
       "      <th>269</th>\n",
       "      <td>4296</td>\n",
       "      <td>[Jay Z,                   Lenny Kravitz       ...</td>\n",
       "      <td>2002</td>\n",
       "      <td>Come on. Ha hey yo stop playin man. This is re...</td>\n",
       "      <td>Jay Z</td>\n",
       "      <td>335</td>\n",
       "      <td>0</td>\n",
       "    </tr>\n",
       "    <tr>\n",
       "      <th>301</th>\n",
       "      <td>98</td>\n",
       "      <td>[Jay Z,                   E*Vax              ]</td>\n",
       "      <td></td>\n",
       "      <td>\"I've been in several things, I was in the dru...</td>\n",
       "      <td>Jay Z</td>\n",
       "      <td>335</td>\n",
       "      <td>0</td>\n",
       "    </tr>\n",
       "    <tr>\n",
       "      <th>308</th>\n",
       "      <td>407</td>\n",
       "      <td>[Jay Z,                   The Notorious B.I.G....</td>\n",
       "      <td>2002</td>\n",
       "      <td>[Refrain: Faith Evans]. Last night I had a dre...</td>\n",
       "      <td>Jay Z</td>\n",
       "      <td>335</td>\n",
       "      <td>0</td>\n",
       "    </tr>\n",
       "    <tr>\n",
       "      <th>363</th>\n",
       "      <td>4246</td>\n",
       "      <td>[Jay Z,                   Lenny Kravitz       ...</td>\n",
       "      <td>2002</td>\n",
       "      <td>Come on. Ha hey yo stop playin man. This is re...</td>\n",
       "      <td>Jay Z</td>\n",
       "      <td>335</td>\n",
       "      <td>0</td>\n",
       "    </tr>\n",
       "    <tr>\n",
       "      <th>457</th>\n",
       "      <td>10952</td>\n",
       "      <td>[Jay Z,                   Timbaland           ...</td>\n",
       "      <td>2013</td>\n",
       "      <td>I wonder if you fools realize how far, you are...</td>\n",
       "      <td>Jay Z</td>\n",
       "      <td>335</td>\n",
       "      <td>0</td>\n",
       "    </tr>\n",
       "    <tr>\n",
       "      <th>472</th>\n",
       "      <td>358</td>\n",
       "      <td>[Jay Z,                   The Notorious B.I.G....</td>\n",
       "      <td>2002</td>\n",
       "      <td>[Refrain: Faith Evans]. Last night I had a dre...</td>\n",
       "      <td>Jay Z</td>\n",
       "      <td>335</td>\n",
       "      <td>0</td>\n",
       "    </tr>\n",
       "    <tr>\n",
       "      <th>526</th>\n",
       "      <td>87</td>\n",
       "      <td>[Jay Z,                   E*Vax              ]</td>\n",
       "      <td></td>\n",
       "      <td>\"I've been in several things, I was in the dru...</td>\n",
       "      <td>Jay Z</td>\n",
       "      <td>335</td>\n",
       "      <td>0</td>\n",
       "    </tr>\n",
       "    <tr>\n",
       "      <th>765</th>\n",
       "      <td>4820</td>\n",
       "      <td>[Joe Budden,                   The Klasix     ...</td>\n",
       "      <td>2009</td>\n",
       "      <td>(Cause) Snoop already told me that bitches ain...</td>\n",
       "      <td>Joe Budden</td>\n",
       "      <td>253</td>\n",
       "      <td>0</td>\n",
       "    </tr>\n",
       "    <tr>\n",
       "      <th>848</th>\n",
       "      <td>9235</td>\n",
       "      <td>[Joe Budden,                   Jared F.       ...</td>\n",
       "      <td></td>\n",
       "      <td>Autobiographical, I need my life to maybe hop ...</td>\n",
       "      <td>Joe Budden</td>\n",
       "      <td>253</td>\n",
       "      <td>0</td>\n",
       "    </tr>\n",
       "    <tr>\n",
       "      <th>850</th>\n",
       "      <td>9382</td>\n",
       "      <td>[Joe Budden,                   Emanny         ...</td>\n",
       "      <td></td>\n",
       "      <td>I'm not complacent (but), but got no regrets. ...</td>\n",
       "      <td>Joe Budden</td>\n",
       "      <td>253</td>\n",
       "      <td>0</td>\n",
       "    </tr>\n",
       "    <tr>\n",
       "      <th>891</th>\n",
       "      <td>4813</td>\n",
       "      <td>[Joe Budden,                   The Klasix     ...</td>\n",
       "      <td>2009</td>\n",
       "      <td>(Cause) Snoop already told me that bitches ain...</td>\n",
       "      <td>Joe Budden</td>\n",
       "      <td>253</td>\n",
       "      <td>0</td>\n",
       "    </tr>\n",
       "    <tr>\n",
       "      <th>937</th>\n",
       "      <td>5223</td>\n",
       "      <td>[Joe Budden]</td>\n",
       "      <td></td>\n",
       "      <td>Cant take the same leaps and bounds as me. Whe...</td>\n",
       "      <td>Joe Budden</td>\n",
       "      <td>253</td>\n",
       "      <td>0</td>\n",
       "    </tr>\n",
       "    <tr>\n",
       "      <th>949</th>\n",
       "      <td>9538</td>\n",
       "      <td>[Joe Budden,                   Emanny         ...</td>\n",
       "      <td></td>\n",
       "      <td>I'm not complacent (but), but got no regrets. ...</td>\n",
       "      <td>Joe Budden</td>\n",
       "      <td>253</td>\n",
       "      <td>0</td>\n",
       "    </tr>\n",
       "    <tr>\n",
       "      <th>1303</th>\n",
       "      <td>7433</td>\n",
       "      <td>[Chip,                   Rude Kid              ]</td>\n",
       "      <td>2016</td>\n",
       "      <td>Terminating emcees, I do my job. Now why you r...</td>\n",
       "      <td>Chip</td>\n",
       "      <td>90</td>\n",
       "      <td>0</td>\n",
       "    </tr>\n",
       "    <tr>\n",
       "      <th>1356</th>\n",
       "      <td>3234</td>\n",
       "      <td>[Azealia Banks,                   Munchi      ...</td>\n",
       "      <td>2012</td>\n",
       "      <td>I observe by his shoes and ties. He prefer the...</td>\n",
       "      <td>Azealia Banks</td>\n",
       "      <td>93</td>\n",
       "      <td>0</td>\n",
       "    </tr>\n",
       "    <tr>\n",
       "      <th>1371</th>\n",
       "      <td>6056</td>\n",
       "      <td>[Azealia Banks,                   Lone        ...</td>\n",
       "      <td></td>\n",
       "      <td>They just want the pumpernickel sis in the lin...</td>\n",
       "      <td>Azealia Banks</td>\n",
       "      <td>93</td>\n",
       "      <td>0</td>\n",
       "    </tr>\n",
       "    <tr>\n",
       "      <th>1402</th>\n",
       "      <td>3007</td>\n",
       "      <td>[Azealia Banks,                   Munchi      ...</td>\n",
       "      <td>2012</td>\n",
       "      <td>I observe by his shoes and ties. He prefer the...</td>\n",
       "      <td>Azealia Banks</td>\n",
       "      <td>93</td>\n",
       "      <td>0</td>\n",
       "    </tr>\n",
       "    <tr>\n",
       "      <th>1413</th>\n",
       "      <td>5826</td>\n",
       "      <td>[Azealia Banks,                   Lone        ...</td>\n",
       "      <td></td>\n",
       "      <td>They just want the pumpernickel sis in the lin...</td>\n",
       "      <td>Azealia Banks</td>\n",
       "      <td>93</td>\n",
       "      <td>0</td>\n",
       "    </tr>\n",
       "    <tr>\n",
       "      <th>1834</th>\n",
       "      <td>6468</td>\n",
       "      <td>[King Los,                   Kid Ink,         ...</td>\n",
       "      <td>2014</td>\n",
       "      <td>My whole clique got money out the ass. I could...</td>\n",
       "      <td>King Los</td>\n",
       "      <td>175</td>\n",
       "      <td>0</td>\n",
       "    </tr>\n",
       "    <tr>\n",
       "      <th>1850</th>\n",
       "      <td>6498</td>\n",
       "      <td>[King Los,                   Kid Ink,         ...</td>\n",
       "      <td>2014</td>\n",
       "      <td>My whole clique got money out the ass. I could...</td>\n",
       "      <td>King Los</td>\n",
       "      <td>175</td>\n",
       "      <td>0</td>\n",
       "    </tr>\n",
       "    <tr>\n",
       "      <th>2580</th>\n",
       "      <td>7999</td>\n",
       "      <td>[Big L,                   Kid Capri           ...</td>\n",
       "      <td>1994</td>\n",
       "      <td>Aiyo, you betta flee hops, or get your head fl...</td>\n",
       "      <td>Big L</td>\n",
       "      <td>140</td>\n",
       "      <td>0</td>\n",
       "    </tr>\n",
       "    <tr>\n",
       "      <th>2587</th>\n",
       "      <td>9278</td>\n",
       "      <td>[Big L,                   C-Town              ]</td>\n",
       "      <td></td>\n",
       "      <td>That's where I rest at, killin tracks is what ...</td>\n",
       "      <td>Big L</td>\n",
       "      <td>140</td>\n",
       "      <td>0</td>\n",
       "    </tr>\n",
       "    <tr>\n",
       "      <th>2619</th>\n",
       "      <td>8087</td>\n",
       "      <td>[Big L,                   Kid Capri           ...</td>\n",
       "      <td>1994</td>\n",
       "      <td>Aiyo, you betta flee hops, or get your head fl...</td>\n",
       "      <td>Big L</td>\n",
       "      <td>140</td>\n",
       "      <td>0</td>\n",
       "    </tr>\n",
       "    <tr>\n",
       "      <th>3348</th>\n",
       "      <td>6353</td>\n",
       "      <td>[Crooked I, Hip Hop Weekly Vol. 1]</td>\n",
       "      <td></td>\n",
       "      <td>Next week we doing some old school shit, ha ha...</td>\n",
       "      <td>Crooked I</td>\n",
       "      <td>164</td>\n",
       "      <td>0</td>\n",
       "    </tr>\n",
       "    <tr>\n",
       "      <th>3421</th>\n",
       "      <td>6134</td>\n",
       "      <td>[Crooked I, Hip Hop Weekly Vol. 1]</td>\n",
       "      <td></td>\n",
       "      <td>Next week we doing some old school shit, ha ha...</td>\n",
       "      <td>Crooked I</td>\n",
       "      <td>164</td>\n",
       "      <td>0</td>\n",
       "    </tr>\n",
       "    <tr>\n",
       "      <th>3522</th>\n",
       "      <td>4896</td>\n",
       "      <td>[Cage, Purple Rain Mixtape Vol. 1]</td>\n",
       "      <td></td>\n",
       "      <td>I hope Madonnas killed by Palestinians. I wish...</td>\n",
       "      <td>Cage</td>\n",
       "      <td>88</td>\n",
       "      <td>0</td>\n",
       "    </tr>\n",
       "    <tr>\n",
       "      <th>3592</th>\n",
       "      <td>6504</td>\n",
       "      <td>[Shaquille O'Neal,                   Ice Cube,...</td>\n",
       "      <td>1997</td>\n",
       "      <td>I'm so fly when I walk I levitate. Diesel's la...</td>\n",
       "      <td>Shaquille O'Neal</td>\n",
       "      <td>29</td>\n",
       "      <td>0</td>\n",
       "    </tr>\n",
       "    <tr>\n",
       "      <th>3608</th>\n",
       "      <td>6312</td>\n",
       "      <td>[Shaquille O'Neal,                   Ice Cube,...</td>\n",
       "      <td>1997</td>\n",
       "      <td>I'm so fly when I walk I levitate. Diesel's la...</td>\n",
       "      <td>Shaquille O'Neal</td>\n",
       "      <td>29</td>\n",
       "      <td>0</td>\n",
       "    </tr>\n",
       "    <tr>\n",
       "      <th>3641</th>\n",
       "      <td>1380</td>\n",
       "      <td>[CyHi The Prynce,                   Dj spi,   ...</td>\n",
       "      <td></td>\n",
       "      <td>I name my shorty reeses, she'll tear your ass ...</td>\n",
       "      <td>CyHi The Prynce</td>\n",
       "      <td>126</td>\n",
       "      <td>0</td>\n",
       "    </tr>\n",
       "    <tr>\n",
       "      <th>...</th>\n",
       "      <td>...</td>\n",
       "      <td>...</td>\n",
       "      <td>...</td>\n",
       "      <td>...</td>\n",
       "      <td>...</td>\n",
       "      <td>...</td>\n",
       "      <td>...</td>\n",
       "    </tr>\n",
       "    <tr>\n",
       "      <th>38621</th>\n",
       "      <td>8027</td>\n",
       "      <td>[Lil Kim,                   The Notorious B.I....</td>\n",
       "      <td>2014</td>\n",
       "      <td>Blue-faced Rollies, animals on my vertebrae. W...</td>\n",
       "      <td>Lil Kim</td>\n",
       "      <td>119</td>\n",
       "      <td>0</td>\n",
       "    </tr>\n",
       "    <tr>\n",
       "      <th>38625</th>\n",
       "      <td>8709</td>\n",
       "      <td>[Lil Kim,                   Mario Winans      ...</td>\n",
       "      <td>2000</td>\n",
       "      <td>Read the 27th Psalm, sing along. The Lord is t...</td>\n",
       "      <td>Lil Kim</td>\n",
       "      <td>119</td>\n",
       "      <td>0</td>\n",
       "    </tr>\n",
       "    <tr>\n",
       "      <th>38866</th>\n",
       "      <td>6631</td>\n",
       "      <td>[Stevie Stone,                   Diesel Beats ...</td>\n",
       "      <td>2012</td>\n",
       "      <td>When I speak the ground shakin. this different...</td>\n",
       "      <td>Stevie Stone</td>\n",
       "      <td>35</td>\n",
       "      <td>0</td>\n",
       "    </tr>\n",
       "    <tr>\n",
       "      <th>38873</th>\n",
       "      <td>369</td>\n",
       "      <td>[Stevie Stone,                   Tech N9ne    ...</td>\n",
       "      <td>2012</td>\n",
       "      <td>Bend to my aroma. Strange on the linen (Uh-uh!...</td>\n",
       "      <td>Stevie Stone</td>\n",
       "      <td>35</td>\n",
       "      <td>0</td>\n",
       "    </tr>\n",
       "    <tr>\n",
       "      <th>38886</th>\n",
       "      <td>6652</td>\n",
       "      <td>[Stevie Stone,                   Diesel Beats ...</td>\n",
       "      <td>2012</td>\n",
       "      <td>When I speak the ground shakin. this different...</td>\n",
       "      <td>Stevie Stone</td>\n",
       "      <td>35</td>\n",
       "      <td>0</td>\n",
       "    </tr>\n",
       "    <tr>\n",
       "      <th>39296</th>\n",
       "      <td>4469</td>\n",
       "      <td>[Trina,                   Kelly Rowland       ...</td>\n",
       "      <td></td>\n",
       "      <td>Now you tellin me. That she is just a friend. ...</td>\n",
       "      <td>Trina</td>\n",
       "      <td>45</td>\n",
       "      <td>0</td>\n",
       "    </tr>\n",
       "    <tr>\n",
       "      <th>39313</th>\n",
       "      <td>9013</td>\n",
       "      <td>[Trina,                   J-Roc              ]</td>\n",
       "      <td>2007</td>\n",
       "      <td>See you with another man and they want you bac...</td>\n",
       "      <td>Trina</td>\n",
       "      <td>45</td>\n",
       "      <td>0</td>\n",
       "    </tr>\n",
       "    <tr>\n",
       "      <th>40349</th>\n",
       "      <td>11749</td>\n",
       "      <td>[Jay Park,                   Dumbfoundead     ...</td>\n",
       "      <td></td>\n",
       "      <td>Its funny girls give me dome but they get thei...</td>\n",
       "      <td>Jay Park</td>\n",
       "      <td>13</td>\n",
       "      <td>0</td>\n",
       "    </tr>\n",
       "    <tr>\n",
       "      <th>41269</th>\n",
       "      <td>459</td>\n",
       "      <td>[Method Man + Redman,                   Saukra...</td>\n",
       "      <td>2009</td>\n",
       "      <td>Got flow like the rapids in Great George. Got ...</td>\n",
       "      <td>Method Man + Redman</td>\n",
       "      <td>22</td>\n",
       "      <td>0</td>\n",
       "    </tr>\n",
       "    <tr>\n",
       "      <th>41272</th>\n",
       "      <td>423</td>\n",
       "      <td>[Method Man + Redman,                   Saukra...</td>\n",
       "      <td>2009</td>\n",
       "      <td>Got flow like the rapids in Great George. Got ...</td>\n",
       "      <td>Method Man + Redman</td>\n",
       "      <td>22</td>\n",
       "      <td>0</td>\n",
       "    </tr>\n",
       "    <tr>\n",
       "      <th>41397</th>\n",
       "      <td>6493</td>\n",
       "      <td>[Sheek Louch,                   Red Spyda     ...</td>\n",
       "      <td></td>\n",
       "      <td>All you talk about is money and sales. What yo...</td>\n",
       "      <td>Sheek Louch</td>\n",
       "      <td>18</td>\n",
       "      <td>0</td>\n",
       "    </tr>\n",
       "    <tr>\n",
       "      <th>41709</th>\n",
       "      <td>10426</td>\n",
       "      <td>[Yukmouth, Thug Lord: The New Testament]</td>\n",
       "      <td></td>\n",
       "      <td>the Regime. Thug Lord (ha ha ha, yes).</td>\n",
       "      <td>Yukmouth</td>\n",
       "      <td>29</td>\n",
       "      <td>0</td>\n",
       "    </tr>\n",
       "    <tr>\n",
       "      <th>41801</th>\n",
       "      <td>4133</td>\n",
       "      <td>[Lil Reese,                   R. Kelly        ...</td>\n",
       "      <td></td>\n",
       "      <td>Talking bout that goofy ass niggas tryna sit e...</td>\n",
       "      <td>Lil Reese</td>\n",
       "      <td>50</td>\n",
       "      <td>0</td>\n",
       "    </tr>\n",
       "    <tr>\n",
       "      <th>42333</th>\n",
       "      <td>6557</td>\n",
       "      <td>[Juelz Santana,                   Neo Da Matri...</td>\n",
       "      <td></td>\n",
       "      <td>First, let me take time to brush my shoulders ...</td>\n",
       "      <td>Juelz Santana</td>\n",
       "      <td>70</td>\n",
       "      <td>0</td>\n",
       "    </tr>\n",
       "    <tr>\n",
       "      <th>42339</th>\n",
       "      <td>7073</td>\n",
       "      <td>[Juelz Santana]</td>\n",
       "      <td></td>\n",
       "      <td>Dipset. (ha). Skull gang. 1, 2, 3 and to the 4...</td>\n",
       "      <td>Juelz Santana</td>\n",
       "      <td>70</td>\n",
       "      <td>0</td>\n",
       "    </tr>\n",
       "    <tr>\n",
       "      <th>42441</th>\n",
       "      <td>6116</td>\n",
       "      <td>[Timbaland,                   Jay Z           ...</td>\n",
       "      <td></td>\n",
       "      <td>Yeah, c'mon. From the gutter to the rich. From...</td>\n",
       "      <td>Timbaland</td>\n",
       "      <td>28</td>\n",
       "      <td>0</td>\n",
       "    </tr>\n",
       "    <tr>\n",
       "      <th>42503</th>\n",
       "      <td>3684</td>\n",
       "      <td>[Wrekonize,                   Snave Nayr      ...</td>\n",
       "      <td></td>\n",
       "      <td>I should have woke you up this morning. Just t...</td>\n",
       "      <td>Wrekonize</td>\n",
       "      <td>55</td>\n",
       "      <td>0</td>\n",
       "    </tr>\n",
       "    <tr>\n",
       "      <th>42745</th>\n",
       "      <td>9159</td>\n",
       "      <td>[Ronnie Radke, Watch Me ]</td>\n",
       "      <td>2014</td>\n",
       "      <td>My attorneys nevous what the judge will say. A...</td>\n",
       "      <td>Ronnie Radke</td>\n",
       "      <td>12</td>\n",
       "      <td>0</td>\n",
       "    </tr>\n",
       "    <tr>\n",
       "      <th>42859</th>\n",
       "      <td>348</td>\n",
       "      <td>[Snoop Dogg &amp; Wiz Khalifa,                   N...</td>\n",
       "      <td>2011</td>\n",
       "      <td>When I pull up people so fresh in my ride. We ...</td>\n",
       "      <td>Snoop Dogg &amp; Wiz Khalifa</td>\n",
       "      <td>17</td>\n",
       "      <td>0</td>\n",
       "    </tr>\n",
       "    <tr>\n",
       "      <th>42981</th>\n",
       "      <td>495</td>\n",
       "      <td>[Eyedea &amp; Abilities,                   Eyedea ...</td>\n",
       "      <td>2004</td>\n",
       "      <td>Half these guys don't even know who we are, bu...</td>\n",
       "      <td>Eyedea &amp; Abilities</td>\n",
       "      <td>42</td>\n",
       "      <td>0</td>\n",
       "    </tr>\n",
       "    <tr>\n",
       "      <th>43283</th>\n",
       "      <td>1221</td>\n",
       "      <td>[Flying Lotus,                   Earl Sweatshi...</td>\n",
       "      <td>2012</td>\n",
       "      <td>Earl Sweatshirt. First off, I'm a start chargi...</td>\n",
       "      <td>Flying Lotus</td>\n",
       "      <td>14</td>\n",
       "      <td>0</td>\n",
       "    </tr>\n",
       "    <tr>\n",
       "      <th>43503</th>\n",
       "      <td>11533</td>\n",
       "      <td>[Jamie Foxx,                   T.I.,          ...</td>\n",
       "      <td>2010</td>\n",
       "      <td>McLaren. My future bright, tight like the puss...</td>\n",
       "      <td>Jamie Foxx</td>\n",
       "      <td>20</td>\n",
       "      <td>0</td>\n",
       "    </tr>\n",
       "    <tr>\n",
       "      <th>43666</th>\n",
       "      <td>5033</td>\n",
       "      <td>[Kreayshawn,                   YOUNG HAWAII SL...</td>\n",
       "      <td></td>\n",
       "      <td>I be boastin' man I always be toasted. Yeah fu...</td>\n",
       "      <td>Kreayshawn</td>\n",
       "      <td>30</td>\n",
       "      <td>0</td>\n",
       "    </tr>\n",
       "    <tr>\n",
       "      <th>43679</th>\n",
       "      <td>5065</td>\n",
       "      <td>[Kreayshawn,                   YOUNG HAWAII SL...</td>\n",
       "      <td></td>\n",
       "      <td>I be boastin' man I always be toasted. Yeah fu...</td>\n",
       "      <td>Kreayshawn</td>\n",
       "      <td>30</td>\n",
       "      <td>0</td>\n",
       "    </tr>\n",
       "    <tr>\n",
       "      <th>43699</th>\n",
       "      <td>1519</td>\n",
       "      <td>[Yung Joc, Hustlenomic$]</td>\n",
       "      <td></td>\n",
       "      <td>Yung Joc. I pull up to the club, jumpin' out o...</td>\n",
       "      <td>Yung Joc</td>\n",
       "      <td>23</td>\n",
       "      <td>0</td>\n",
       "    </tr>\n",
       "    <tr>\n",
       "      <th>43707</th>\n",
       "      <td>1505</td>\n",
       "      <td>[Yung Joc, Hustlenomic$]</td>\n",
       "      <td></td>\n",
       "      <td>Yung Joc. I pull up to the club, jumpin' out o...</td>\n",
       "      <td>Yung Joc</td>\n",
       "      <td>23</td>\n",
       "      <td>0</td>\n",
       "    </tr>\n",
       "    <tr>\n",
       "      <th>44198</th>\n",
       "      <td>3460</td>\n",
       "      <td>[Shawty Lo, Units in the City]</td>\n",
       "      <td></td>\n",
       "      <td>Transparent; see right through it. And oh yeah...</td>\n",
       "      <td>Shawty Lo</td>\n",
       "      <td>11</td>\n",
       "      <td>0</td>\n",
       "    </tr>\n",
       "    <tr>\n",
       "      <th>45106</th>\n",
       "      <td>6595</td>\n",
       "      <td>[Jake Miller,                   The Fliptones ...</td>\n",
       "      <td>2013</td>\n",
       "      <td>With the sweat pants, hair tied, chillin with ...</td>\n",
       "      <td>Jake Miller</td>\n",
       "      <td>24</td>\n",
       "      <td>0</td>\n",
       "    </tr>\n",
       "    <tr>\n",
       "      <th>45114</th>\n",
       "      <td>10924</td>\n",
       "      <td>[Jake Miller, Jake Miller Remixes]</td>\n",
       "      <td>2012</td>\n",
       "      <td>Type of girl that's used to guys blowing kisse...</td>\n",
       "      <td>Jake Miller</td>\n",
       "      <td>24</td>\n",
       "      <td>0</td>\n",
       "    </tr>\n",
       "    <tr>\n",
       "      <th>45135</th>\n",
       "      <td>1177</td>\n",
       "      <td>[Nelly Furtado, The Spirit Indestructible]</td>\n",
       "      <td></td>\n",
       "      <td>The better, the bigger. [Verse 1]. Tonight is ...</td>\n",
       "      <td>Nelly Furtado</td>\n",
       "      <td>12</td>\n",
       "      <td>0</td>\n",
       "    </tr>\n",
       "  </tbody>\n",
       "</table>\n",
       "<p>417 rows × 7 columns</p>\n",
       "</div>"
      ],
      "text/plain": [
       "       title                                             artist  date  \\\n",
       "251      398  [Jay Z,                   The Notorious B.I.G....  2002   \n",
       "269     4296  [Jay Z,                   Lenny Kravitz       ...  2002   \n",
       "301       98     [Jay Z,                   E*Vax              ]         \n",
       "308      407  [Jay Z,                   The Notorious B.I.G....  2002   \n",
       "363     4246  [Jay Z,                   Lenny Kravitz       ...  2002   \n",
       "457    10952  [Jay Z,                   Timbaland           ...  2013   \n",
       "472      358  [Jay Z,                   The Notorious B.I.G....  2002   \n",
       "526       87     [Jay Z,                   E*Vax              ]         \n",
       "765     4820  [Joe Budden,                   The Klasix     ...  2009   \n",
       "848     9235  [Joe Budden,                   Jared F.       ...         \n",
       "850     9382  [Joe Budden,                   Emanny         ...         \n",
       "891     4813  [Joe Budden,                   The Klasix     ...  2009   \n",
       "937     5223                                       [Joe Budden]         \n",
       "949     9538  [Joe Budden,                   Emanny         ...         \n",
       "1303    7433   [Chip,                   Rude Kid              ]  2016   \n",
       "1356    3234  [Azealia Banks,                   Munchi      ...  2012   \n",
       "1371    6056  [Azealia Banks,                   Lone        ...         \n",
       "1402    3007  [Azealia Banks,                   Munchi      ...  2012   \n",
       "1413    5826  [Azealia Banks,                   Lone        ...         \n",
       "1834    6468  [King Los,                   Kid Ink,         ...  2014   \n",
       "1850    6498  [King Los,                   Kid Ink,         ...  2014   \n",
       "2580    7999  [Big L,                   Kid Capri           ...  1994   \n",
       "2587    9278    [Big L,                   C-Town              ]         \n",
       "2619    8087  [Big L,                   Kid Capri           ...  1994   \n",
       "3348    6353                 [Crooked I, Hip Hop Weekly Vol. 1]         \n",
       "3421    6134                 [Crooked I, Hip Hop Weekly Vol. 1]         \n",
       "3522    4896                 [Cage, Purple Rain Mixtape Vol. 1]         \n",
       "3592    6504  [Shaquille O'Neal,                   Ice Cube,...  1997   \n",
       "3608    6312  [Shaquille O'Neal,                   Ice Cube,...  1997   \n",
       "3641    1380  [CyHi The Prynce,                   Dj spi,   ...         \n",
       "...      ...                                                ...   ...   \n",
       "38621   8027  [Lil Kim,                   The Notorious B.I....  2014   \n",
       "38625   8709  [Lil Kim,                   Mario Winans      ...  2000   \n",
       "38866   6631  [Stevie Stone,                   Diesel Beats ...  2012   \n",
       "38873    369  [Stevie Stone,                   Tech N9ne    ...  2012   \n",
       "38886   6652  [Stevie Stone,                   Diesel Beats ...  2012   \n",
       "39296   4469  [Trina,                   Kelly Rowland       ...         \n",
       "39313   9013     [Trina,                   J-Roc              ]  2007   \n",
       "40349  11749  [Jay Park,                   Dumbfoundead     ...         \n",
       "41269    459  [Method Man + Redman,                   Saukra...  2009   \n",
       "41272    423  [Method Man + Redman,                   Saukra...  2009   \n",
       "41397   6493  [Sheek Louch,                   Red Spyda     ...         \n",
       "41709  10426           [Yukmouth, Thug Lord: The New Testament]         \n",
       "41801   4133  [Lil Reese,                   R. Kelly        ...         \n",
       "42333   6557  [Juelz Santana,                   Neo Da Matri...         \n",
       "42339   7073                                    [Juelz Santana]         \n",
       "42441   6116  [Timbaland,                   Jay Z           ...         \n",
       "42503   3684  [Wrekonize,                   Snave Nayr      ...         \n",
       "42745   9159                          [Ronnie Radke, Watch Me ]  2014   \n",
       "42859    348  [Snoop Dogg & Wiz Khalifa,                   N...  2011   \n",
       "42981    495  [Eyedea & Abilities,                   Eyedea ...  2004   \n",
       "43283   1221  [Flying Lotus,                   Earl Sweatshi...  2012   \n",
       "43503  11533  [Jamie Foxx,                   T.I.,          ...  2010   \n",
       "43666   5033  [Kreayshawn,                   YOUNG HAWAII SL...         \n",
       "43679   5065  [Kreayshawn,                   YOUNG HAWAII SL...         \n",
       "43699   1519                           [Yung Joc, Hustlenomic$]         \n",
       "43707   1505                           [Yung Joc, Hustlenomic$]         \n",
       "44198   3460                     [Shawty Lo, Units in the City]         \n",
       "45106   6595  [Jake Miller,                   The Fliptones ...  2013   \n",
       "45114  10924                 [Jake Miller, Jake Miller Remixes]  2012   \n",
       "45135   1177         [Nelly Furtado, The Spirit Indestructible]         \n",
       "\n",
       "                                                  lyrics  \\\n",
       "251    [Refrain: Faith Evans]. Last night I had a dre...   \n",
       "269    Come on. Ha hey yo stop playin man. This is re...   \n",
       "301    \"I've been in several things, I was in the dru...   \n",
       "308    [Refrain: Faith Evans]. Last night I had a dre...   \n",
       "363    Come on. Ha hey yo stop playin man. This is re...   \n",
       "457    I wonder if you fools realize how far, you are...   \n",
       "472    [Refrain: Faith Evans]. Last night I had a dre...   \n",
       "526    \"I've been in several things, I was in the dru...   \n",
       "765    (Cause) Snoop already told me that bitches ain...   \n",
       "848    Autobiographical, I need my life to maybe hop ...   \n",
       "850    I'm not complacent (but), but got no regrets. ...   \n",
       "891    (Cause) Snoop already told me that bitches ain...   \n",
       "937    Cant take the same leaps and bounds as me. Whe...   \n",
       "949    I'm not complacent (but), but got no regrets. ...   \n",
       "1303   Terminating emcees, I do my job. Now why you r...   \n",
       "1356   I observe by his shoes and ties. He prefer the...   \n",
       "1371   They just want the pumpernickel sis in the lin...   \n",
       "1402   I observe by his shoes and ties. He prefer the...   \n",
       "1413   They just want the pumpernickel sis in the lin...   \n",
       "1834   My whole clique got money out the ass. I could...   \n",
       "1850   My whole clique got money out the ass. I could...   \n",
       "2580   Aiyo, you betta flee hops, or get your head fl...   \n",
       "2587   That's where I rest at, killin tracks is what ...   \n",
       "2619   Aiyo, you betta flee hops, or get your head fl...   \n",
       "3348   Next week we doing some old school shit, ha ha...   \n",
       "3421   Next week we doing some old school shit, ha ha...   \n",
       "3522   I hope Madonnas killed by Palestinians. I wish...   \n",
       "3592   I'm so fly when I walk I levitate. Diesel's la...   \n",
       "3608   I'm so fly when I walk I levitate. Diesel's la...   \n",
       "3641   I name my shorty reeses, she'll tear your ass ...   \n",
       "...                                                  ...   \n",
       "38621  Blue-faced Rollies, animals on my vertebrae. W...   \n",
       "38625  Read the 27th Psalm, sing along. The Lord is t...   \n",
       "38866  When I speak the ground shakin. this different...   \n",
       "38873  Bend to my aroma. Strange on the linen (Uh-uh!...   \n",
       "38886  When I speak the ground shakin. this different...   \n",
       "39296  Now you tellin me. That she is just a friend. ...   \n",
       "39313  See you with another man and they want you bac...   \n",
       "40349  Its funny girls give me dome but they get thei...   \n",
       "41269  Got flow like the rapids in Great George. Got ...   \n",
       "41272  Got flow like the rapids in Great George. Got ...   \n",
       "41397  All you talk about is money and sales. What yo...   \n",
       "41709            the Regime. Thug Lord (ha ha ha, yes).    \n",
       "41801  Talking bout that goofy ass niggas tryna sit e...   \n",
       "42333  First, let me take time to brush my shoulders ...   \n",
       "42339  Dipset. (ha). Skull gang. 1, 2, 3 and to the 4...   \n",
       "42441  Yeah, c'mon. From the gutter to the rich. From...   \n",
       "42503  I should have woke you up this morning. Just t...   \n",
       "42745  My attorneys nevous what the judge will say. A...   \n",
       "42859  When I pull up people so fresh in my ride. We ...   \n",
       "42981  Half these guys don't even know who we are, bu...   \n",
       "43283  Earl Sweatshirt. First off, I'm a start chargi...   \n",
       "43503  McLaren. My future bright, tight like the puss...   \n",
       "43666  I be boastin' man I always be toasted. Yeah fu...   \n",
       "43679  I be boastin' man I always be toasted. Yeah fu...   \n",
       "43699  Yung Joc. I pull up to the club, jumpin' out o...   \n",
       "43707  Yung Joc. I pull up to the club, jumpin' out o...   \n",
       "44198  Transparent; see right through it. And oh yeah...   \n",
       "45106  With the sweat pants, hair tied, chillin with ...   \n",
       "45114  Type of girl that's used to guys blowing kisse...   \n",
       "45135  The better, the bigger. [Verse 1]. Tonight is ...   \n",
       "\n",
       "                        primary  counts  kmean_pca  \n",
       "251                       Jay Z     335          0  \n",
       "269                       Jay Z     335          0  \n",
       "301                       Jay Z     335          0  \n",
       "308                       Jay Z     335          0  \n",
       "363                       Jay Z     335          0  \n",
       "457                       Jay Z     335          0  \n",
       "472                       Jay Z     335          0  \n",
       "526                       Jay Z     335          0  \n",
       "765                  Joe Budden     253          0  \n",
       "848                  Joe Budden     253          0  \n",
       "850                  Joe Budden     253          0  \n",
       "891                  Joe Budden     253          0  \n",
       "937                  Joe Budden     253          0  \n",
       "949                  Joe Budden     253          0  \n",
       "1303                       Chip      90          0  \n",
       "1356              Azealia Banks      93          0  \n",
       "1371              Azealia Banks      93          0  \n",
       "1402              Azealia Banks      93          0  \n",
       "1413              Azealia Banks      93          0  \n",
       "1834                   King Los     175          0  \n",
       "1850                   King Los     175          0  \n",
       "2580                      Big L     140          0  \n",
       "2587                      Big L     140          0  \n",
       "2619                      Big L     140          0  \n",
       "3348                  Crooked I     164          0  \n",
       "3421                  Crooked I     164          0  \n",
       "3522                       Cage      88          0  \n",
       "3592           Shaquille O'Neal      29          0  \n",
       "3608           Shaquille O'Neal      29          0  \n",
       "3641            CyHi The Prynce     126          0  \n",
       "...                         ...     ...        ...  \n",
       "38621                   Lil Kim     119          0  \n",
       "38625                   Lil Kim     119          0  \n",
       "38866              Stevie Stone      35          0  \n",
       "38873              Stevie Stone      35          0  \n",
       "38886              Stevie Stone      35          0  \n",
       "39296                     Trina      45          0  \n",
       "39313                     Trina      45          0  \n",
       "40349                  Jay Park      13          0  \n",
       "41269       Method Man + Redman      22          0  \n",
       "41272       Method Man + Redman      22          0  \n",
       "41397               Sheek Louch      18          0  \n",
       "41709                  Yukmouth      29          0  \n",
       "41801                 Lil Reese      50          0  \n",
       "42333             Juelz Santana      70          0  \n",
       "42339             Juelz Santana      70          0  \n",
       "42441                 Timbaland      28          0  \n",
       "42503                 Wrekonize      55          0  \n",
       "42745              Ronnie Radke      12          0  \n",
       "42859  Snoop Dogg & Wiz Khalifa      17          0  \n",
       "42981        Eyedea & Abilities      42          0  \n",
       "43283              Flying Lotus      14          0  \n",
       "43503                Jamie Foxx      20          0  \n",
       "43666                Kreayshawn      30          0  \n",
       "43679                Kreayshawn      30          0  \n",
       "43699                  Yung Joc      23          0  \n",
       "43707                  Yung Joc      23          0  \n",
       "44198                 Shawty Lo      11          0  \n",
       "45106               Jake Miller      24          0  \n",
       "45114               Jake Miller      24          0  \n",
       "45135             Nelly Furtado      12          0  \n",
       "\n",
       "[417 rows x 7 columns]"
      ]
     },
     "execution_count": 154,
     "metadata": {},
     "output_type": "execute_result"
    }
   ],
   "source": [
    "rap_frame[rap_frame['kmean_pca'] == 0]"
   ]
  },
  {
   "cell_type": "markdown",
   "metadata": {},
   "source": [
    "First clustering put foreign songs in cluster 1. Removal and recluster to follow."
   ]
  },
  {
   "cell_type": "code",
   "execution_count": 69,
   "metadata": {
    "collapsed": true
   },
   "outputs": [],
   "source": [
    "# remove foreign\n",
    "rap_frame = rap_frame[rap_frame['kmean_pca'] != 1]"
   ]
  },
  {
   "cell_type": "code",
   "execution_count": 70,
   "metadata": {
    "collapsed": true
   },
   "outputs": [],
   "source": [
    "# re-vectorize\n",
    "tvectorizer = TfidfVectorizer(analyzer='word', min_df=.01, max_df=1000, max_features=20000, \n",
    "                              stop_words=stopwords)\n",
    "tfidf = tvectorizer.fit_transform(rap_frame['lyrics'])"
   ]
  },
  {
   "cell_type": "code",
   "execution_count": 72,
   "metadata": {
    "collapsed": true
   },
   "outputs": [],
   "source": [
    "# re-pca\n",
    "pca = PCA(n_components=10)\n",
    "prin_var = pca.fit(tfidf.toarray()) \n",
    "principal = pca.fit_transform(tfidf.toarray())\n",
    "pvars = prin_var.explained_variance_"
   ]
  },
  {
   "cell_type": "code",
   "execution_count": 73,
   "metadata": {
    "collapsed": false
   },
   "outputs": [
    {
     "data": {
      "text/plain": [
       "<matplotlib.text.Text at 0x7f029a2cd650>"
      ]
     },
     "execution_count": 73,
     "metadata": {},
     "output_type": "execute_result"
    },
    {
     "data": {
      "image/png": "[encoded data removed]",
      "text/plain": [
       "<matplotlib.figure.Figure at 0x7f029a903bd0>"
      ]
     },
     "metadata": {},
     "output_type": "display_data"
    }
   ],
   "source": [
    "plt.plot(range(1,len(pvars)+1),pvars)\n",
    "plt.xlabel('Principal Components')\n",
    "plt.ylabel('Explained Variance')\n",
    "plt.title('Variance by Component Number')"
   ]
  },
  {
   "cell_type": "code",
   "execution_count": 74,
   "metadata": {
    "collapsed": true
   },
   "outputs": [],
   "source": [
    "# Elbow method: 4 components explain majority of variance\n",
    "pca = PCA(n_components=4)\n",
    "prin_var = pca.fit(tfidf.toarray()) \n",
    "principal = pca.fit_transform(tfidf.toarray())"
   ]
  },
  {
   "cell_type": "code",
   "execution_count": 77,
   "metadata": {
    "collapsed": true
   },
   "outputs": [],
   "source": [
    "# re-kmeans\n",
    "n_inertia = []\n",
    "for i in range(1,15):\n",
    "    km = KMeans(n_clusters = i, init = 'k-means++', n_init=25, n_jobs=-1)\n",
    "    kmeans_pca_array = km.fit_transform(principal)\n",
    "    pca_clusters_array = km.predict(principal)\n",
    "    inertia = km.inertia_\n",
    "    n_inertia.append(inertia)"
   ]
  },
  {
   "cell_type": "code",
   "execution_count": 78,
   "metadata": {
    "collapsed": false
   },
   "outputs": [
    {
     "data": {
      "text/plain": [
       "[<matplotlib.lines.Line2D at 0x7f029a7eac10>]"
      ]
     },
     "execution_count": 78,
     "metadata": {},
     "output_type": "execute_result"
    },
    {
     "data": {
      "image/png": "[encoded data removed]",
      "text/plain": [
       "<matplotlib.figure.Figure at 0x7f0294797150>"
      ]
     },
     "metadata": {},
     "output_type": "display_data"
    }
   ],
   "source": [
    "plt.xlabel('# of Clusters')\n",
    "plt.ylabel('Inertia')\n",
    "plt.plot(range(1,15),n_inertia)"
   ]
  },
  {
   "cell_type": "code",
   "execution_count": 79,
   "metadata": {
    "collapsed": true
   },
   "outputs": [],
   "source": [
    "# fit model with 5 clusters\n",
    "model = KMeans(n_clusters=5).fit(principal)\n",
    "kmean = model.predict(principal)\n",
    "rap_frame['kmean_pca'] = kmean"
   ]
  },
  {
   "cell_type": "code",
   "execution_count": 80,
   "metadata": {
    "collapsed": false
   },
   "outputs": [
    {
     "data": {
      "text/plain": [
       "4    18234\n",
       "3    12707\n",
       "1     9261\n",
       "0      417\n",
       "2      281\n",
       "Name: kmean_pca, dtype: int64"
      ]
     },
     "execution_count": 80,
     "metadata": {},
     "output_type": "execute_result"
    }
   ],
   "source": [
    "rap_frame.kmean_pca.value_counts()"
   ]
  },
  {
   "cell_type": "code",
   "execution_count": 95,
   "metadata": {
    "collapsed": false
   },
   "outputs": [
    {
     "data": {
      "text/plain": [
       "Gucci Mane           302\n",
       "Waka Flocka Flame    223\n",
       "Young Thug           204\n",
       "Lil Wayne            203\n",
       "Chief Keef           194\n",
       "Name: primary, dtype: int64"
      ]
     },
     "execution_count": 95,
     "metadata": {},
     "output_type": "execute_result"
    }
   ],
   "source": [
    "rap_frame[rap_frame['kmean_pca'] == 4].primary.value_counts().head()"
   ]
  },
  {
   "cell_type": "markdown",
   "metadata": {},
   "source": [
    "Second clustering appears to show temporal groupings. Group lyrics by decade, cluster again."
   ]
  },
  {
   "cell_type": "code",
   "execution_count": 103,
   "metadata": {
    "collapsed": true
   },
   "outputs": [],
   "source": [
    "frame10 = rap_frame[(rap_frame['date'] >= 2010)]\n",
    "frame00 = rap_frame[(rap_frame['date'] > 1999) & (rap_frame['date'] < 2010)]\n",
    "frame90 = rap_frame[(rap_frame['date'] > 1989) & (rap_frame['date'] < 2000)]\n",
    "frame80 = rap_frame[(rap_frame['date'] < 1990)]"
   ]
  },
  {
   "cell_type": "code",
   "execution_count": 104,
   "metadata": {
    "collapsed": true
   },
   "outputs": [],
   "source": [
    "tvectorizer10 = TfidfVectorizer(analyzer='word', min_df=.01, max_df=1000, max_features=20000, \n",
    "                              stop_words=stopwords)\n",
    "tvectorizer00 = TfidfVectorizer(analyzer='word', min_df=.01, max_df=1000, max_features=20000, \n",
    "                              stop_words=stopwords)\n",
    "tvectorizer90 = TfidfVectorizer(analyzer='word', min_df=.01, max_df=1000, max_features=20000, \n",
    "                              stop_words=stopwords)\n",
    "tvectorizer80 = TfidfVectorizer(analyzer='word', min_df=.01, max_df=1000, max_features=20000, \n",
    "                              stop_words=stopwords)\n",
    "\n",
    "tfidf10 = tvectorizer10.fit_transform(frame10['lyrics'])\n",
    "tfidf00 = tvectorizer00.fit_transform(frame00['lyrics'])\n",
    "tfidf90 = tvectorizer90.fit_transform(frame90['lyrics'])\n",
    "tfidf80 = tvectorizer80.fit_transform(frame80['lyrics'])"
   ]
  },
  {
   "cell_type": "code",
   "execution_count": 105,
   "metadata": {
    "collapsed": true
   },
   "outputs": [],
   "source": [
    "# save for topic modeling\n",
    "vocab10 = tvectorizer10.get_feature_names()\n",
    "vocab00 = tvectorizer00.get_feature_names()\n",
    "vocab90 = tvectorizer90.get_feature_names()\n",
    "vocab80 = tvectorizer80.get_feature_names()"
   ]
  },
  {
   "cell_type": "code",
   "execution_count": 107,
   "metadata": {
    "collapsed": false
   },
   "outputs": [],
   "source": [
    "pca10 = PCA(n_components=8)\n",
    "prin_var10 = pca.fit(tfidf10.toarray()) \n",
    "principal10 = pca.fit_transform(tfidf10.toarray())\n",
    "\n",
    "pca00 = PCA(n_components=8)\n",
    "prin_var00 = pca.fit(tfidf00.toarray()) \n",
    "principal00 = pca.fit_transform(tfidf00.toarray())\n",
    "\n",
    "pca90 = PCA(n_components=8)\n",
    "prin_var90 = pca.fit(tfidf90.toarray()) \n",
    "principal90 = pca.fit_transform(tfidf90.toarray())\n",
    "\n",
    "pca80 = PCA(n_components=8)\n",
    "prin_var80 = pca.fit(tfidf80.toarray()) \n",
    "principal80 = pca.fit_transform(tfidf80.toarray())\n",
    "\n",
    "pvars10 = prin_var10.explained_variance_\n",
    "pvars00 = prin_var00.explained_variance_\n",
    "pvars90 = prin_var90.explained_variance_\n",
    "pvars80 = prin_var80.explained_variance_"
   ]
  },
  {
   "cell_type": "code",
   "execution_count": 115,
   "metadata": {
    "collapsed": false
   },
   "outputs": [
    {
     "data": {
      "text/plain": [
       "<matplotlib.text.Text at 0x7f027f509190>"
      ]
     },
     "execution_count": 115,
     "metadata": {},
     "output_type": "execute_result"
    },
    {
     "data": {
      "image/png": "[encoded data removed]",
      "text/plain": [
       "<matplotlib.figure.Figure at 0x7f029a3523d0>"
      ]
     },
     "metadata": {},
     "output_type": "display_data"
    }
   ],
   "source": [
    "plt.plot(range(1,len(pvars80)+1),pvars80)\n",
    "plt.xlabel('Principal Components')\n",
    "plt.ylabel('Explained Variance')\n",
    "plt.title('Variance by Component Number')"
   ]
  },
  {
   "cell_type": "code",
   "execution_count": 116,
   "metadata": {
    "collapsed": true
   },
   "outputs": [],
   "source": [
    "# 3 principal components explain majority of variance\n",
    "pca10 = PCA(n_components=3)\n",
    "prin_var10 = pca.fit(tfidf10.toarray()) \n",
    "principal10 = pca.fit_transform(tfidf10.toarray())\n",
    "\n",
    "pca00 = PCA(n_components=3)\n",
    "prin_var00 = pca.fit(tfidf00.toarray()) \n",
    "principal00 = pca.fit_transform(tfidf00.toarray())\n",
    "\n",
    "pca90 = PCA(n_components=3)\n",
    "prin_var90 = pca.fit(tfidf90.toarray()) \n",
    "principal90 = pca.fit_transform(tfidf90.toarray())\n",
    "\n",
    "pca80 = PCA(n_components=3)\n",
    "prin_var80 = pca.fit(tfidf80.toarray()) \n",
    "principal80 = pca.fit_transform(tfidf80.toarray())"
   ]
  },
  {
   "cell_type": "code",
   "execution_count": 117,
   "metadata": {
    "collapsed": true
   },
   "outputs": [],
   "source": [
    "n_inertia10 = []\n",
    "for i in range(1,15):\n",
    "    km = KMeans(n_clusters = i, init = 'k-means++', n_init=25, n_jobs=-1)\n",
    "    kmeans_pca_array = km.fit_transform(principal10)\n",
    "    pca_clusters_array = km.predict(principal10)\n",
    "    inertia = km.inertia_\n",
    "    n_inertia10.append(inertia)\n",
    "    \n",
    "n_inertia00 = []\n",
    "for i in range(1,15):\n",
    "    km = KMeans(n_clusters = i, init = 'k-means++', n_init=25, n_jobs=-1)\n",
    "    kmeans_pca_array = km.fit_transform(principal00)\n",
    "    pca_clusters_array = km.predict(principal00)\n",
    "    inertia = km.inertia_\n",
    "    n_inertia00.append(inertia)\n",
    "    \n",
    "n_inertia90 = []\n",
    "for i in range(1,15):\n",
    "    km = KMeans(n_clusters = i, init = 'k-means++', n_init=25, n_jobs=-1)\n",
    "    kmeans_pca_array = km.fit_transform(principal90)\n",
    "    pca_clusters_array = km.predict(principal90)\n",
    "    inertia = km.inertia_\n",
    "    n_inertia90.append(inertia)\n",
    "    \n",
    "n_inertia80 = []\n",
    "for i in range(1,15):\n",
    "    km = KMeans(n_clusters = i, init = 'k-means++', n_init=25, n_jobs=-1)\n",
    "    kmeans_pca_array = km.fit_transform(principal80)\n",
    "    pca_clusters_array = km.predict(principal80)\n",
    "    inertia = km.inertia_\n",
    "    n_inertia80.append(inertia)"
   ]
  },
  {
   "cell_type": "code",
   "execution_count": 121,
   "metadata": {
    "collapsed": false
   },
   "outputs": [
    {
     "data": {
      "text/plain": [
       "<matplotlib.text.Text at 0x7f0294da8b90>"
      ]
     },
     "execution_count": 121,
     "metadata": {},
     "output_type": "execute_result"
    },
    {
     "data": {
      "image/png": "[encoded data removed]",
      "text/plain": [
       "<matplotlib.figure.Figure at 0x7f0294e94550>"
      ]
     },
     "metadata": {},
     "output_type": "display_data"
    }
   ],
   "source": [
    "plt.plot(range(1,15),n_inertia10)\n",
    "plt.xlabel('# of Clusters')\n",
    "plt.ylabel('Explained Variance')\n",
    "plt.title('Variance by Component Number')"
   ]
  },
  {
   "cell_type": "code",
   "execution_count": 124,
   "metadata": {
    "collapsed": true
   },
   "outputs": [],
   "source": [
    "# kmeans with 5 clusters\n",
    "model10 = KMeans(n_clusters=5).fit(principal10)\n",
    "model00 = KMeans(n_clusters=5).fit(principal00)\n",
    "model90 = KMeans(n_clusters=5).fit(principal90)\n",
    "model80 = KMeans(n_clusters=5).fit(principal80)\n",
    "\n",
    "kmean10 = model.predict(principal10)\n",
    "kmean00 = model.predict(principal00)\n",
    "kmean90 = model.predict(principal90)\n",
    "kmean80 = model.predict(principal80)"
   ]
  },
  {
   "cell_type": "code",
   "execution_count": 126,
   "metadata": {
    "collapsed": false
   },
   "outputs": [],
   "source": [
    "frame10['kmean_pca'] = kmean10\n",
    "frame00['kmean_pca'] = kmean00\n",
    "frame90['kmean_pca'] = kmean90\n",
    "frame80['kmean_pca'] = kmean80"
   ]
  },
  {
   "cell_type": "code",
   "execution_count": 161,
   "metadata": {
    "collapsed": false
   },
   "outputs": [
    {
     "data": {
      "text/plain": [
       "4    498\n",
       "1    461\n",
       "3    396\n",
       "Name: kmean_pca, dtype: int64"
      ]
     },
     "execution_count": 161,
     "metadata": {},
     "output_type": "execute_result"
    }
   ],
   "source": [
    "frame90.kmean_pca.value_counts()"
   ]
  },
  {
   "cell_type": "code",
   "execution_count": 164,
   "metadata": {
    "collapsed": false
   },
   "outputs": [
    {
     "data": {
      "text/plain": [
       "Nas                 47\n",
       "Raekwon             37\n",
       "Big Daddy Kane      31\n",
       "Ghostface Killah    23\n",
       "Redman              22\n",
       "Name: primary, dtype: int64"
      ]
     },
     "execution_count": 164,
     "metadata": {},
     "output_type": "execute_result"
    }
   ],
   "source": [
    "frame90[frame90['kmean_pca'] == 4].primary.value_counts().head()"
   ]
  },
  {
   "cell_type": "markdown",
   "metadata": {},
   "source": [
    "80s and 90s artists clustering by rap group, 00s only shady records cluster, 10s no clusters by group."
   ]
  },
  {
   "cell_type": "markdown",
   "metadata": {},
   "source": [
    "## Topic Modeling"
   ]
  },
  {
   "cell_type": "markdown",
   "metadata": {},
   "source": [
    "#### NMF"
   ]
  },
  {
   "cell_type": "code",
   "execution_count": 165,
   "metadata": {
    "collapsed": true
   },
   "outputs": [],
   "source": [
    "from sklearn.decomposition import NMF"
   ]
  },
  {
   "cell_type": "code",
   "execution_count": 183,
   "metadata": {
    "collapsed": true
   },
   "outputs": [],
   "source": [
    "n_topics = 5\n",
    "n_top_words = 10"
   ]
  },
  {
   "cell_type": "code",
   "execution_count": 167,
   "metadata": {
    "collapsed": true
   },
   "outputs": [],
   "source": [
    "def print_top_words(model, feature_names, n_top_words):\n",
    "    for topic_idx, topic in enumerate(model.components_):\n",
    "        print(\"Topic #%d:\" % topic_idx)\n",
    "        print(\" \".join([feature_names[i]\n",
    "                        for i in topic.argsort()[:-n_top_words - 1:-1]]))\n",
    "    print()"
   ]
  },
  {
   "cell_type": "code",
   "execution_count": 184,
   "metadata": {
    "collapsed": true
   },
   "outputs": [],
   "source": [
    "nmf10 = NMF(n_components=n_topics, alpha=.1, l1_ratio=.5).fit(tfidf10)\n",
    "nmf00 = NMF(n_components=n_topics, alpha=.1, l1_ratio=.5).fit(tfidf00)\n",
    "nmf90 = NMF(n_components=n_topics, alpha=.1, l1_ratio=.5).fit(tfidf90)\n",
    "nmf80 = NMF(n_components=n_topics, alpha=.1, l1_ratio=.5).fit(tfidf80)"
   ]
  },
  {
   "cell_type": "code",
   "execution_count": 187,
   "metadata": {
    "collapsed": false
   },
   "outputs": [
    {
     "name": "stdout",
     "output_type": "stream",
     "text": [
      "Topic #0:\n",
      "got cause don shit know ain yo man just ll\n",
      "Topic #1:\n",
      "dogg snoop doggy pound motherfuckin cuz nate loc gangsta hey\n",
      "Topic #2:\n",
      "ha cryin biz lovin nothin somethin handle paper sho far\n",
      "Topic #3:\n",
      "biggie smalls ron rappin rum big weed brooklyn chance oh\n",
      "Topic #4:\n",
      "funk redman swing sweet style ride stop let pack trunk\n",
      "()\n"
     ]
    }
   ],
   "source": [
    "print_top_words(nmf90, vocab90, n_top_words)"
   ]
  },
  {
   "cell_type": "code",
   "execution_count": null,
   "metadata": {
    "collapsed": true
   },
   "outputs": [],
   "source": []
  }
 ],
 "metadata": {
  "kernelspec": {
   "display_name": "Python 2",
   "language": "python",
   "name": "python2"
  },
  "language_info": {
   "codemirror_mode": {
    "name": "ipython",
    "version": 2
   },
   "file_extension": ".py",
   "mimetype": "text/x-python",
   "name": "python",
   "nbconvert_exporter": "python",
   "pygments_lexer": "ipython2",
   "version": "2.7.11"
  }
 },
 "nbformat": 4,
 "nbformat_minor": 0
}
