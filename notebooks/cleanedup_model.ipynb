{
 "cells": [
  {
   "cell_type": "code",
   "execution_count": 142,
   "metadata": {
    "collapsed": true
   },
   "outputs": [],
   "source": [
    "import pandas as pd\n",
    "import numpy as np\n",
    "from datetime import datetime\n",
    "import os\n",
    "import pickle\n",
    "import matplotlib.pyplot as plt\n",
    "from sklearn.feature_extraction.stop_words import ENGLISH_STOP_WORDS\n",
    "%matplotlib inline"
   ]
  },
  {
   "cell_type": "code",
   "execution_count": 160,
   "metadata": {
    "collapsed": false
   },
   "outputs": [],
   "source": [
    "stopwords = set(ENGLISH_STOP_WORDS.copy())\n",
    "stopwords.update(['bitch', 'fuck', 'nigga', 'niggas', 'motherfucker'])"
   ]
  },
  {
   "cell_type": "code",
   "execution_count": 2,
   "metadata": {
    "collapsed": true
   },
   "outputs": [],
   "source": [
    "# raw df, 46000 songs\n",
    "with open('grand_frame.pkl', 'rb') as readfile:\n",
    "    grand_frame = pickle.load(readfile)"
   ]
  },
  {
   "cell_type": "code",
   "execution_count": 8,
   "metadata": {
    "collapsed": true
   },
   "outputs": [],
   "source": [
    "import string\n",
    "from nltk.corpus import stopwords\n",
    "def text_process(mess):\n",
    "    \"\"\"\n",
    "    Takes in a string of text, then performs the following:\n",
    "    1. Remove all punctuation\n",
    "    2. Remove all stopwords\n",
    "    3. Returns a list of the cleaned text\n",
    "    \"\"\"\n",
    "    # Punct and Lower\n",
    "    nopunc = [char.lower() for char in mess if char not in string.punctuation]\n",
    "\n",
    "    # Numbers\n",
    "    nonumb = [char for char in nopunc if char not in '0123456789']\n",
    "    \n",
    "    # Join the characters again to form the string.\n",
    "    clean = ''.join(nonumb)\n",
    "    \n",
    "    # Now just remove any stopwords\n",
    "    \n",
    "    return [word.split('\\\\')[0] for word in clean.split() if word.lower() not in stopwords.words('english')]"
   ]
  },
  {
   "cell_type": "markdown",
   "metadata": {},
   "source": [
    "## Frame reduction"
   ]
  },
  {
   "cell_type": "code",
   "execution_count": 3,
   "metadata": {
    "collapsed": true
   },
   "outputs": [],
   "source": [
    "# column for main artist, ignoring featured artists\n",
    "grand_frame['primary'] = grand_frame['artist'].apply(lambda x: x[0])"
   ]
  },
  {
   "cell_type": "code",
   "execution_count": 4,
   "metadata": {
    "collapsed": true
   },
   "outputs": [],
   "source": [
    "# create separate df with value counts\n",
    "counts_df = grand_frame['primary'].value_counts()\n",
    "\n",
    "value_frame = pd.DataFrame({ 'primary': counts_df.index.tolist(), \n",
    "                             'counts': counts_df.values.tolist() })"
   ]
  },
  {
   "cell_type": "code",
   "execution_count": 5,
   "metadata": {
    "collapsed": true
   },
   "outputs": [],
   "source": [
    "# merge two dfs to add 'primary artist' and 'value counts' columns\n",
    "final_frame = pd.merge(grand_frame,value_frame, on='primary')"
   ]
  },
  {
   "cell_type": "code",
   "execution_count": 6,
   "metadata": {
    "collapsed": true
   },
   "outputs": [],
   "source": [
    "# drop songs with artists who do not appear at least 10 times in df\n",
    "ten_frame = final_frame[final_frame['counts'] > 10]"
   ]
  },
  {
   "cell_type": "code",
   "execution_count": null,
   "metadata": {
    "collapsed": true
   },
   "outputs": [],
   "source": [
    "##with open('ten_frame.pkl', 'wb') as writefile:\n",
    "##    pickle.dump(ten_frame, writefile)"
   ]
  },
  {
   "cell_type": "code",
   "execution_count": 83,
   "metadata": {
    "collapsed": true
   },
   "outputs": [],
   "source": [
    "with open('foreign_removed.pkl', 'rb') as readfile:\n",
    "     ten_frame = pickle.load(readfile)"
   ]
  },
  {
   "cell_type": "markdown",
   "metadata": {},
   "source": [
    "#### Vectorize"
   ]
  },
  {
   "cell_type": "code",
   "execution_count": 162,
   "metadata": {
    "collapsed": true
   },
   "outputs": [],
   "source": [
    "from sklearn.feature_extraction.text import TfidfVectorizer\n",
    "from sklearn.feature_extraction.text import CountVectorizer"
   ]
  },
  {
   "cell_type": "code",
   "execution_count": null,
   "metadata": {
    "collapsed": true
   },
   "outputs": [],
   "source": [
    "Tvectorizer = TfidfVectorizer(analyzer=text_process, min_df=.01, max_df=1000, max_features=20000)"
   ]
  },
  {
   "cell_type": "code",
   "execution_count": null,
   "metadata": {
    "collapsed": true
   },
   "outputs": [],
   "source": [
    "tfidf = Tvectorizer.fit_transform(ten_frame['lyrics'])"
   ]
  },
  {
   "cell_type": "code",
   "execution_count": null,
   "metadata": {
    "collapsed": true
   },
   "outputs": [],
   "source": [
    "##with open('tfidf.pkl', 'wb') as writefile:\n",
    "##    pickle.dump(tfidf, writefile)"
   ]
  },
  {
   "cell_type": "markdown",
   "metadata": {},
   "source": [
    "#### PCA"
   ]
  },
  {
   "cell_type": "code",
   "execution_count": null,
   "metadata": {
    "collapsed": true
   },
   "outputs": [],
   "source": [
    "from sklearn.decomposition import PCA\n",
    "pca = PCA(n_components=2)\n",
    "prin_var = pca.fit(tfidf.toarray()) \n",
    "principal = pca.fit_transform(tfidf.toarray())"
   ]
  },
  {
   "cell_type": "code",
   "execution_count": null,
   "metadata": {
    "collapsed": true
   },
   "outputs": [],
   "source": [
    "pvars = prin_var.explained_variance_"
   ]
  },
  {
   "cell_type": "code",
   "execution_count": null,
   "metadata": {
    "collapsed": true
   },
   "outputs": [],
   "source": [
    "plt.plot(range(1,len(pvars)+1),pvars)\n",
    "plt.xlabel('Principal Components')\n",
    "plt.ylabel('Explained Variance')\n",
    "plt.title('Variance by Component Number')"
   ]
  },
  {
   "cell_type": "markdown",
   "metadata": {},
   "source": [
    "#### KMEANS"
   ]
  },
  {
   "cell_type": "code",
   "execution_count": null,
   "metadata": {
    "collapsed": true
   },
   "outputs": [],
   "source": [
    "from sklearn.cluster import KMeans"
   ]
  },
  {
   "cell_type": "code",
   "execution_count": null,
   "metadata": {
    "collapsed": true
   },
   "outputs": [],
   "source": [
    "# determine number of clusters\n",
    "n_inertia = []\n",
    "for i in range(1,15):\n",
    "    km = KMeans(n_clusters = i, init = 'k-means++', n_init=25, n_jobs=-1)\n",
    "    kmeans_pca_array = km.fit_transform(principal)\n",
    "    pca_clusters_array = km.predict(principal)\n",
    "    inertia = km.inertia_\n",
    "    n_inertia.append(inertia)"
   ]
  },
  {
   "cell_type": "code",
   "execution_count": null,
   "metadata": {
    "collapsed": true
   },
   "outputs": [],
   "source": [
    "plt.plot(range(1,15),n_inertia)"
   ]
  },
  {
   "cell_type": "markdown",
   "metadata": {},
   "source": [
    "## By Era"
   ]
  },
  {
   "cell_type": "code",
   "execution_count": 84,
   "metadata": {
    "collapsed": true
   },
   "outputs": [],
   "source": [
    "frame_10 = ten_frame[(ten_frame['date'] >= 2010)]\n",
    "frame_00 = ten_frame[(ten_frame['date'] > 1999) & (ten_frame['date'] < 2010)]\n",
    "frame_90 = ten_frame[(ten_frame['date'] > 1989) & (ten_frame['date'] < 2000)]\n",
    "frame_80 = ten_frame[(ten_frame['date'] < 1990)]"
   ]
  },
  {
   "cell_type": "code",
   "execution_count": 165,
   "metadata": {
    "collapsed": true
   },
   "outputs": [],
   "source": [
    "Cvectorizer10 = CountVectorizer(analyzer='word', min_df=.01, max_features=20000, \n",
    "                                stop_words= stopwords)\n",
    "Cvectorizer00 = CountVectorizer(analyzer='word', min_df=.01, max_features=20000, \n",
    "                                stop_words= stopwords)\n",
    "Cvectorizer90 = CountVectorizer(analyzer='word', min_df=.01, max_features=20000, \n",
    "                                stop_words= stopwords)\n",
    "Cvectorizer80 = CountVectorizer(analyzer='word', min_df=.01, max_features=20000, \n",
    "                                stop_words= stopwords)\n",
    "\n",
    "count10 = Cvectorizer10.fit_transform(frame_10['lyrics'])\n",
    "count00 = Cvectorizer00.fit_transform(frame_00['lyrics'])\n",
    "count90 = Cvectorizer90.fit_transform(frame_90['lyrics'])\n",
    "count80 = Cvectorizer80.fit_transform(frame_80['lyrics'])"
   ]
  },
  {
   "cell_type": "code",
   "execution_count": 113,
   "metadata": {
    "collapsed": false
   },
   "outputs": [],
   "source": [
    "Tvectorizer10 = TfidfVectorizer(analyzer='word', min_df=.01, max_features=20000, \n",
    "                                stop_words= ['fuck', 'bitch', 'nigga', 'niggas', 'motherfucker'])\n",
    "Tvectorizer00 = TfidfVectorizer(analyzer='word', min_df=.01, max_features=20000, \n",
    "                                stop_words= ['fuck', 'bitch', 'nigga', 'niggas', 'motherfucker'])\n",
    "Tvectorizer90 = TfidfVectorizer(analyzer='word', min_df=.01, max_features=20000, \n",
    "                                stop_words= ['fuck', 'bitch', 'nigga', 'niggas', 'motherfucker'])\n",
    "Tvectorizer80 = TfidfVectorizer(analyzer='word', min_df=.01, max_features=20000, \n",
    "                                stop_words= ['fuck', 'bitch', 'nigga', 'niggas', 'motherfucker'])\n",
    "\n",
    "tfidf10 = Tvectorizer10.fit_transform(frame_10['lyrics'])\n",
    "tfidf00 = Tvectorizer00.fit_transform(frame_00['lyrics'])\n",
    "tfidf90 = Tvectorizer90.fit_transform(frame_90['lyrics'])\n",
    "tfidf80 = Tvectorizer80.fit_transform(frame_80['lyrics'])"
   ]
  },
  {
   "cell_type": "code",
   "execution_count": 86,
   "metadata": {
    "collapsed": true
   },
   "outputs": [],
   "source": [
    "with open('tfidf10.pkl', 'wb') as writefile:\n",
    "    pickle.dump(tfidf10, writefile)\n",
    "with open('tfidf00.pkl', 'wb') as writefile:\n",
    "    pickle.dump(tfidf00, writefile)\n",
    "with open('tfidf90.pkl', 'wb') as writefile:\n",
    "    pickle.dump(tfidf90, writefile)\n",
    "with open('tfidf80.pkl', 'wb') as writefile:\n",
    "    pickle.dump(tfidf80, writefile)"
   ]
  },
  {
   "cell_type": "code",
   "execution_count": 166,
   "metadata": {
    "collapsed": true
   },
   "outputs": [],
   "source": [
    "vocab10 = Cvectorizer10.get_feature_names()\n",
    "vocab00 = Cvectorizer00.get_feature_names()\n",
    "vocab90 = Cvectorizer90.get_feature_names()\n",
    "vocab80 = Cvectorizer80.get_feature_names()"
   ]
  },
  {
   "cell_type": "code",
   "execution_count": 115,
   "metadata": {
    "collapsed": true
   },
   "outputs": [],
   "source": [
    "from sklearn.decomposition import PCA"
   ]
  },
  {
   "cell_type": "code",
   "execution_count": 178,
   "metadata": {
    "collapsed": false
   },
   "outputs": [],
   "source": [
    "pca10 = PCA(n_components=2)\n",
    "prin_var10 = pca10.fit(count10.toarray()) \n",
    "principal10 = pca10.fit_transform(count10.toarray())\n",
    "\n",
    "pca00 = PCA(n_components=2)\n",
    "prin_var00 = pca00.fit(count00.toarray()) \n",
    "principal00 = pca00.fit_transform(count00.toarray())\n",
    "\n",
    "pca90 = PCA(n_components=5)\n",
    "prin_var90 = pca90.fit(count90.toarray()) \n",
    "principal90 = pca90.fit_transform(count90.toarray())\n",
    "\n",
    "pca80 = PCA(n_components=5)\n",
    "prin_var80 = pca80.fit(count80.toarray()) \n",
    "principal80 = pca80.fit_transform(count80.toarray())"
   ]
  },
  {
   "cell_type": "code",
   "execution_count": 171,
   "metadata": {
    "collapsed": true
   },
   "outputs": [],
   "source": [
    "pvars10 = prin_var10.explained_variance_\n",
    "pvars00 = prin_var00.explained_variance_\n",
    "pvars90 = prin_var90.explained_variance_\n",
    "pvars80 = prin_var80.explained_variance_"
   ]
  },
  {
   "cell_type": "code",
   "execution_count": 177,
   "metadata": {
    "collapsed": false
   },
   "outputs": [
    {
     "data": {
      "text/plain": [
       "<matplotlib.text.Text at 0x7f1926957e10>"
      ]
     },
     "execution_count": 177,
     "metadata": {},
     "output_type": "execute_result"
    },
    {
     "data": {
      "image/png": "[encoded data removed]",
      "text/plain": [
       "<matplotlib.figure.Figure at 0x7f1926991290>"
      ]
     },
     "metadata": {},
     "output_type": "display_data"
    }
   ],
   "source": [
    "plt.plot(range(1,len(pvars80)+1),pvars80)\n",
    "plt.xlabel('Principal Components')\n",
    "plt.ylabel('Explained Variance')\n",
    "plt.title('Variance by Component Number')"
   ]
  },
  {
   "cell_type": "code",
   "execution_count": 179,
   "metadata": {
    "collapsed": true
   },
   "outputs": [],
   "source": [
    "from sklearn.cluster import KMeans"
   ]
  },
  {
   "cell_type": "code",
   "execution_count": 180,
   "metadata": {
    "collapsed": false
   },
   "outputs": [],
   "source": [
    "n_inertia10 = []\n",
    "for i in range(1,15):\n",
    "    km = KMeans(n_clusters = i, init = 'k-means++', n_init=25, n_jobs=-1)\n",
    "    kmeans_pca_array = km.fit_transform(principal10)\n",
    "    pca_clusters_array = km.predict(principal10)\n",
    "    inertia = km.inertia_\n",
    "    n_inertia10.append(inertia)\n",
    "    \n",
    "n_inertia00 = []\n",
    "for i in range(1,15):\n",
    "    km = KMeans(n_clusters = i, init = 'k-means++', n_init=25, n_jobs=-1)\n",
    "    kmeans_pca_array = km.fit_transform(principal00)\n",
    "    pca_clusters_array = km.predict(principal00)\n",
    "    inertia = km.inertia_\n",
    "    n_inertia00.append(inertia)\n",
    "    \n",
    "n_inertia90 = []\n",
    "for i in range(1,15):\n",
    "    km = KMeans(n_clusters = i, init = 'k-means++', n_init=25, n_jobs=-1)\n",
    "    kmeans_pca_array = km.fit_transform(principal90)\n",
    "    pca_clusters_array = km.predict(principal90)\n",
    "    inertia = km.inertia_\n",
    "    n_inertia90.append(inertia)\n",
    "    \n",
    "n_inertia80 = []\n",
    "for i in range(1,15):\n",
    "    km = KMeans(n_clusters = i, init = 'k-means++', n_init=25, n_jobs=-1)\n",
    "    kmeans_pca_array = km.fit_transform(principal80)\n",
    "    pca_clusters_array = km.predict(principal80)\n",
    "    inertia = km.inertia_\n",
    "    n_inertia80.append(inertia)"
   ]
  },
  {
   "cell_type": "code",
   "execution_count": 188,
   "metadata": {
    "collapsed": false
   },
   "outputs": [
    {
     "data": {
      "text/plain": [
       "<matplotlib.text.Text at 0x7f19303f5f10>"
      ]
     },
     "execution_count": 188,
     "metadata": {},
     "output_type": "execute_result"
    },
    {
     "data": {
      "image/png": "[encoded data removed]",
      "text/plain": [
       "<matplotlib.figure.Figure at 0x7f19304c3110>"
      ]
     },
     "metadata": {},
     "output_type": "display_data"
    }
   ],
   "source": [
    "plt.plot(range(1,15),n_inertia80)\n",
    "plt.xlabel('# of Clusters')\n",
    "plt.ylabel('Explained Variance')\n",
    "plt.title('Variance by Component Number')"
   ]
  },
  {
   "cell_type": "code",
   "execution_count": 189,
   "metadata": {
    "collapsed": true
   },
   "outputs": [],
   "source": [
    "model10 = KMeans(n_clusters=5).fit(principal10)\n",
    "model00 = KMeans(n_clusters=5).fit(principal00)\n",
    "model90 = KMeans(n_clusters=4).fit(principal90)\n",
    "model80 = KMeans(n_clusters=6).fit(principal80)"
   ]
  },
  {
   "cell_type": "code",
   "execution_count": 190,
   "metadata": {
    "collapsed": false
   },
   "outputs": [],
   "source": [
    "kmean10 = model10.predict(principal10)\n",
    "kmean00 = model00.predict(principal00)\n",
    "kmean90 = model90.predict(principal90)\n",
    "kmean80 = model80.predict(principal80)"
   ]
  },
  {
   "cell_type": "code",
   "execution_count": 191,
   "metadata": {
    "collapsed": false
   },
   "outputs": [
    {
     "name": "stderr",
     "output_type": "stream",
     "text": [
      "/home/elrazia/anaconda2/lib/python2.7/site-packages/ipykernel/__main__.py:1: SettingWithCopyWarning: \n",
      "A value is trying to be set on a copy of a slice from a DataFrame.\n",
      "Try using .loc[row_indexer,col_indexer] = value instead\n",
      "\n",
      "See the caveats in the documentation: http://pandas.pydata.org/pandas-docs/stable/indexing.html#indexing-view-versus-copy\n",
      "  if __name__ == '__main__':\n",
      "/home/elrazia/anaconda2/lib/python2.7/site-packages/ipykernel/__main__.py:2: SettingWithCopyWarning: \n",
      "A value is trying to be set on a copy of a slice from a DataFrame.\n",
      "Try using .loc[row_indexer,col_indexer] = value instead\n",
      "\n",
      "See the caveats in the documentation: http://pandas.pydata.org/pandas-docs/stable/indexing.html#indexing-view-versus-copy\n",
      "  from ipykernel import kernelapp as app\n",
      "/home/elrazia/anaconda2/lib/python2.7/site-packages/ipykernel/__main__.py:3: SettingWithCopyWarning: \n",
      "A value is trying to be set on a copy of a slice from a DataFrame.\n",
      "Try using .loc[row_indexer,col_indexer] = value instead\n",
      "\n",
      "See the caveats in the documentation: http://pandas.pydata.org/pandas-docs/stable/indexing.html#indexing-view-versus-copy\n",
      "  app.launch_new_instance()\n",
      "/home/elrazia/anaconda2/lib/python2.7/site-packages/ipykernel/__main__.py:4: SettingWithCopyWarning: \n",
      "A value is trying to be set on a copy of a slice from a DataFrame.\n",
      "Try using .loc[row_indexer,col_indexer] = value instead\n",
      "\n",
      "See the caveats in the documentation: http://pandas.pydata.org/pandas-docs/stable/indexing.html#indexing-view-versus-copy\n"
     ]
    }
   ],
   "source": [
    "frame_10['kmean_pca'] = kmean10\n",
    "frame_00['kmean_pca'] = kmean00\n",
    "frame_90['kmean_pca'] = kmean90\n",
    "frame_80['kmean_pca'] = kmean80"
   ]
  },
  {
   "cell_type": "code",
   "execution_count": 218,
   "metadata": {
    "collapsed": false
   },
   "outputs": [
    {
     "data": {
      "text/plain": [
       "1    72\n",
       "0    43\n",
       "5     7\n",
       "4     2\n",
       "3     2\n",
       "2     2\n",
       "Name: kmean_pca, dtype: int64"
      ]
     },
     "execution_count": 218,
     "metadata": {},
     "output_type": "execute_result"
    }
   ],
   "source": [
    "frame_80.kmean_pca.value_counts()"
   ]
  },
  {
   "cell_type": "code",
   "execution_count": 221,
   "metadata": {
    "collapsed": false
   },
   "outputs": [
    {
     "data": {
      "text/plain": [
       "Big Daddy Kane                            21\n",
       "Sir Mix-a-Lot                             12\n",
       "Biz Markie                                 7\n",
       "Too $hort                                  6\n",
       "Kool Moe Dee                               5\n",
       "Queen Latifah                              4\n",
       "Schoolly D                                 3\n",
       "Ice-T                                      3\n",
       "Mac Dre                                    2\n",
       "Kool G. Rap & DJ Polo                      2\n",
       "Young MC                                   2\n",
       "King Los                                   1\n",
       "The Supreme Court of the United States     1\n",
       "Rakim                                      1\n",
       "Marley Marl                                1\n",
       "Eric B. & Rakim                            1\n",
       "Name: primary, dtype: int64"
      ]
     },
     "execution_count": 221,
     "metadata": {},
     "output_type": "execute_result"
    }
   ],
   "source": [
    "frame_80[frame_80['kmean_pca'] == 1].primary.value_counts()"
   ]
  },
  {
   "cell_type": "markdown",
   "metadata": {},
   "source": [
    "#### LDA"
   ]
  },
  {
   "cell_type": "code",
   "execution_count": 79,
   "metadata": {
    "collapsed": true
   },
   "outputs": [],
   "source": [
    "from sklearn.decomposition import LatentDirichletAllocation"
   ]
  },
  {
   "cell_type": "code",
   "execution_count": 212,
   "metadata": {
    "collapsed": false
   },
   "outputs": [
    {
     "data": {
      "text/plain": [
       "LatentDirichletAllocation(batch_size=128, doc_topic_prior=None,\n",
       "             evaluate_every=-1, learning_decay=0.7,\n",
       "             learning_method='online', learning_offset=50.0,\n",
       "             max_doc_update_iter=100, max_iter=5, mean_change_tol=0.001,\n",
       "             n_jobs=1, n_topics=6, perp_tol=0.1, random_state=0,\n",
       "             topic_word_prior=None, total_samples=1000000.0, verbose=0)"
      ]
     },
     "execution_count": 212,
     "metadata": {},
     "output_type": "execute_result"
    }
   ],
   "source": [
    "lda10 = LatentDirichletAllocation(n_topics=5, max_iter=5, learning_method='online', \n",
    "                                learning_offset=50., random_state=0)\n",
    "lda00 = LatentDirichletAllocation(n_topics=5, max_iter=5, learning_method='online', \n",
    "                                learning_offset=50., random_state=0)\n",
    "lda90 = LatentDirichletAllocation(n_topics=4, max_iter=5, learning_method='online', \n",
    "                                learning_offset=50., random_state=0)\n",
    "lda80 = LatentDirichletAllocation(n_topics=6, max_iter=5, learning_method='online', \n",
    "                                learning_offset=50., random_state=0)\n",
    "lda10.fit(count10)\n",
    "lda00.fit(count00)\n",
    "lda90.fit(count90)\n",
    "lda80.fit(count80)"
   ]
  },
  {
   "cell_type": "code",
   "execution_count": 213,
   "metadata": {
    "collapsed": true
   },
   "outputs": [],
   "source": [
    "topic_word10 = lda10.components_\n",
    "topic_word00 = lda00.components_\n",
    "topic_word90 = lda90.components_\n",
    "topic_word80 = lda80.components_"
   ]
  },
  {
   "cell_type": "code",
   "execution_count": 217,
   "metadata": {
    "collapsed": false
   },
   "outputs": [
    {
     "name": "stdout",
     "output_type": "stream",
     "text": [
      "Topic 0: like cause just make don ll let man say big\n",
      "Topic 1: cause like don ll ain just say got money make\n",
      "Topic 2: like got girl don cause getting em posse right good\n",
      "Topic 3: like got said don just say big curse way rap\n",
      "Topic 4: like em ll rhyme kane melody time don make drop\n",
      "Topic 5: don di man rhyme like ll hey know mic time\n"
     ]
    }
   ],
   "source": [
    "n_top_words = 10\n",
    "for i, topic_dist in enumerate(topic_word80):\n",
    "    topic_words = np.array(vocab80)[np.argsort(topic_dist)][:-(n_top_words+1):-1]\n",
    "    print('Topic {}: {}'.format(i, ' '.join(topic_words)))"
   ]
  },
  {
   "cell_type": "markdown",
   "metadata": {},
   "source": [
    "#### NMF"
   ]
  },
  {
   "cell_type": "code",
   "execution_count": 132,
   "metadata": {
    "collapsed": true
   },
   "outputs": [],
   "source": [
    "from sklearn.decomposition import NMF"
   ]
  },
  {
   "cell_type": "code",
   "execution_count": 138,
   "metadata": {
    "collapsed": true
   },
   "outputs": [],
   "source": [
    "n_samples = 2000\n",
    "n_features = 1000\n",
    "n_topics = 10\n",
    "n_top_words = 8"
   ]
  },
  {
   "cell_type": "code",
   "execution_count": 134,
   "metadata": {
    "collapsed": true
   },
   "outputs": [],
   "source": [
    "def print_top_words(model, feature_names, n_top_words):\n",
    "    for topic_idx, topic in enumerate(model.components_):\n",
    "        print(\"Topic #%d:\" % topic_idx)\n",
    "        print(\" \".join([feature_names[i]\n",
    "                        for i in topic.argsort()[:-n_top_words - 1:-1]]))\n",
    "    print()"
   ]
  },
  {
   "cell_type": "code",
   "execution_count": 135,
   "metadata": {
    "collapsed": true
   },
   "outputs": [],
   "source": [
    "nmf10 = NMF(n_components=n_topics, alpha=.1, l1_ratio=.5).fit(tfidf10)\n",
    "nmf00 = NMF(n_components=n_topics, alpha=.1, l1_ratio=.5).fit(tfidf00)\n",
    "nmf90 = NMF(n_components=n_topics, alpha=.1, l1_ratio=.5).fit(tfidf90)\n",
    "nmf80 = NMF(n_components=n_topics, alpha=.1, l1_ratio=.5).fit(tfidf80)"
   ]
  },
  {
   "cell_type": "code",
   "execution_count": 140,
   "metadata": {
    "collapsed": false
   },
   "outputs": [
    {
     "name": "stdout",
     "output_type": "stream",
     "text": [
      "Topic #0:\n",
      "the in of to with and your on\n",
      "Topic #1:\n",
      "you your me know re can girl don\n",
      "Topic #2:\n",
      "she her girl me love that the pussy\n",
      "Topic #3:\n",
      "my like on and me it that the\n",
      "Topic #4:\n",
      "to and it the that my he was\n",
      "()\n"
     ]
    }
   ],
   "source": [
    "print_top_words(nmf00, vocab00, n_top_words)"
   ]
  },
  {
   "cell_type": "code",
   "execution_count": null,
   "metadata": {
    "collapsed": true
   },
   "outputs": [],
   "source": []
  }
 ],
 "metadata": {
  "kernelspec": {
   "display_name": "Python 2",
   "language": "python",
   "name": "python2"
  },
  "language_info": {
   "codemirror_mode": {
    "name": "ipython",
    "version": 2
   },
   "file_extension": ".py",
   "mimetype": "text/x-python",
   "name": "python",
   "nbconvert_exporter": "python",
   "pygments_lexer": "ipython2",
   "version": "2.7.11"
  }
 },
 "nbformat": 4,
 "nbformat_minor": 0
}
