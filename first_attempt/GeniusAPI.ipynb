{
 "cells": [
  {
   "cell_type": "code",
   "execution_count": 1,
   "metadata": {
    "collapsed": true
   },
   "outputs": [],
   "source": [
    "import os\n",
    "from selenium import webdriver\n",
    "import time\n",
    "import numpy as np\n",
    "from bs4 import BeautifulSoup as bf\n",
    "import pickle\n",
    "import requests\n",
    "from pymongo import MongoClient"
   ]
  },
  {
   "cell_type": "code",
   "execution_count": 7,
   "metadata": {
    "collapsed": false
   },
   "outputs": [],
   "source": [
    "chromedriver = \"/Users/El-Razi/Downloads/chromedriver\"\n",
    "os.environ[\"webdriver.chrome.driver\"] = chromedriver\n",
    "\n",
    "urls = ['http://genius.com/search?q=jay+z', 'http://genius.com/search?q=eminem',\n",
    "        'http://genius.com/search?q=nas', 'http://genius.com/search?q=mos+def',\n",
    "        'http://genius.com/search?q=talib+kweli', 'http://genius.com/search?q=snoop+dogg',\n",
    "        'http://genius.com/search?q=kanye+west', 'http://genius.com/search?q=lil+wayne',\n",
    "        'http://genius.com/search?q=camron', 'http://genius.com/search?q=jim+jones',\n",
    "        'http://genius.com/search?q=jim+jones', 'http://genius.com/search?q=juelz+santana',\n",
    "        'http://genius.com/search?q=wu+tang+clan', 'http://genius.com/search?q=mobb+deep',\n",
    "        'http://genius.com/search?q=krs+one', 'http://genius.com/search?q=eric+b+and+rakim',\n",
    "        'http://genius.com/search?q=grandmaster+flash', 'http://genius.com/search?q=salt+n+pepa',\n",
    "        'http://genius.com/search?q=foxy+brown', 'http://genius.com/search?q=naughty+by+nature',\n",
    "        'http://genius.com/search?q=queen+latifah', 'http://genius.com/search?q=dr+dre',\n",
    "        'http://genius.com/search?q=common', 'http://genius.com/search?q=tupac',\n",
    "        'http://genius.com/search?q=notorious+big', 'http://genius.com/search?q=big+daddy+kane',\n",
    "        'http://genius.com/search?q=will+smith', 'http://genius.com/search?q=50+cent',\n",
    "        'http://genius.com/search?q=big+l', 'http://genius.com/search?q=nwa']"
   ]
  },
  {
   "cell_type": "code",
   "execution_count": 4,
   "metadata": {
    "collapsed": true
   },
   "outputs": [],
   "source": [
    "search_list1 = ['Jay-z', 'Eminem', 'Nas', 'Yasiin-bey', 'Black-star', 'Talib-kweli',\n",
    "                'Snoop-dogg', 'Kanye-west', 'Lil-wayne', 'Camron', 'Jim-jones',\n",
    "                'Juelz-santana', 'Wu-tang-clan', 'Mobb-deep', 'Prodigy', 'Krs-one',\n",
    "                'Eric-b-and-rakim', 'Grandmaster-flash', 'Salt-n-pepa', 'Foxy-brown',\n",
    "                'Naughty-by-nature', 'Queen-latifah', 'Dr-dre', 'Common', '2pac',\n",
    "                'The-notorious-big', 'Big-daddy-kane', 'Will-smith', '50-cent',\n",
    "                'Big-l', 'Nwa']\n",
    "sub_search1 = [i.split('-')[0] for i in search_list1]"
   ]
  },
  {
   "cell_type": "code",
   "execution_count": 13,
   "metadata": {
    "collapsed": false
   },
   "outputs": [],
   "source": [
    "master_list = []\n",
    "driver = webdriver.Chrome(chromedriver)\n",
    "for url in urls:\n",
    "    driver.get(url)\n",
    "    \n",
    "    # autoscroll\n",
    "    for i in range(20):\n",
    "        time.sleep(1)\n",
    "        driver.execute_script(\"window.scrollTo(0, document.body.scrollHeight);\")\n",
    "    data = bf(driver.page_source)\n",
    "    temp_lst = []\n",
    "    \n",
    "    for link in data.find_all('li', class_ = 'search_result'):\n",
    "        temp_lst.append(str(link.a.get('href')))\n",
    "    master_list.append([url.split('=')[1], temp_lst])\n",
    "driver.close()"
   ]
  },
  {
   "cell_type": "code",
   "execution_count": 8,
   "metadata": {
    "collapsed": false
   },
   "outputs": [],
   "source": [
    "master_list[0][1]"
   ]
  },
  {
   "cell_type": "code",
   "execution_count": 17,
   "metadata": {
    "collapsed": false
   },
   "outputs": [],
   "source": [
    "song_list = sum([j for i,j in master_list],[])"
   ]
  },
  {
   "cell_type": "code",
   "execution_count": 18,
   "metadata": {
    "collapsed": false
   },
   "outputs": [
    {
     "data": {
      "text/plain": [
       "6155"
      ]
     },
     "execution_count": 18,
     "metadata": {},
     "output_type": "execute_result"
    }
   ],
   "source": [
    "len(song_list)"
   ]
  },
  {
   "cell_type": "code",
   "execution_count": 17,
   "metadata": {
    "collapsed": false
   },
   "outputs": [],
   "source": [
    "def weed_out(linksList, container):\n",
    "    '''\n",
    "    removes links from passed linksList that are not in container\n",
    "    '''\n",
    "    \n",
    "    return [link for link in linksList if \n",
    "            link.split('-')[0].split('m/')[1] in container]"
   ]
  },
  {
   "cell_type": "code",
   "execution_count": 21,
   "metadata": {
    "collapsed": false
   },
   "outputs": [],
   "source": [
    "song_list = weed_out(song_list, sub_search1)"
   ]
  },
  {
   "cell_type": "code",
   "execution_count": 22,
   "metadata": {
    "collapsed": false
   },
   "outputs": [
    {
     "data": {
      "text/plain": [
       "4998"
      ]
     },
     "execution_count": 22,
     "metadata": {},
     "output_type": "execute_result"
    }
   ],
   "source": [
    "len(song_list)"
   ]
  },
  {
   "cell_type": "markdown",
   "metadata": {},
   "source": [
    "#### URL Pickle"
   ]
  },
  {
   "cell_type": "code",
   "execution_count": 23,
   "metadata": {
    "collapsed": false
   },
   "outputs": [],
   "source": [
    "with open('first_urls.pkl', 'wb') as handle:\n",
    "    pickle.dump(song_list, handle)"
   ]
  },
  {
   "cell_type": "code",
   "execution_count": 24,
   "metadata": {
    "collapsed": true
   },
   "outputs": [],
   "source": [
    "with open('first_urls.pkl', 'rb') as handle:\n",
    "    song_list = pickle.load(handle)"
   ]
  },
  {
   "cell_type": "markdown",
   "metadata": {},
   "source": [
    "# Multiple Songs"
   ]
  },
  {
   "cell_type": "code",
   "execution_count": 29,
   "metadata": {
    "collapsed": false
   },
   "outputs": [],
   "source": [
    "artists = []\n",
    "dates = []\n",
    "songs = []\n",
    "titles = []\n",
    "\n",
    "for i in xrange(len(song_list)):\n",
    "    data = bf(requests.get(song_list[i]).text)\n",
    "    \n",
    "    try:\n",
    "        # artist info (if multiple artists, append list. else append list of solo artist)\n",
    "        if len(data.find('span', class_=\"song_info-info\").text.encode('ascii','replace').replace('\\n','')) > 0:\n",
    "            artists.append([data.find('a', class_=\"song_header-primary_info-primary_artist\").text.encode('ascii','replace') , \n",
    "                            data.find('span', class_=\"song_info-info\").text.encode('ascii','replace').replace('\\n','')])\n",
    "        else:\n",
    "            artists.append([data.find('a', class_=\"song_header-primary_info-primary_artist\").text.encode('ascii','replace')])\n",
    "        \n",
    "        # date info\n",
    "        dates.append(data.find('release-date').text.encode('ascii','replace').replace('\\n','')[12:])\n",
    "        \n",
    "        # lyrics info\n",
    "        song = ''\n",
    "        for i in range(2, len(data.findAll('a', class_='referent'))):\n",
    "            song += data.findAll('a', class_='referent')[i].text.encode('ascii','replace').replace(u'\\n','. ').replace(u'n\\u2019t','nt')\n",
    "            song += '. '\n",
    "        import unicodedata\n",
    "        song = unicodedata.normalize('NFKD', song).encode('ascii', 'ignore')\n",
    "        songs.append(song)\n",
    "        \n",
    "        # title info\n",
    "        titles.append(u''.join(data.find('h1', class_=\"song_header-primary_info-title\").text).encode('utf-8').strip())\n",
    "    except:\n",
    "        pass"
   ]
  },
  {
   "cell_type": "code",
   "execution_count": 36,
   "metadata": {
    "collapsed": false
   },
   "outputs": [],
   "source": [
    "rap_corpus = {}\n",
    "for i in xrange(len(songs)):\n",
    "    j = {}\n",
    "    j['artist'] = artists[i]\n",
    "    j['date'] = dates[i]\n",
    "    j['lyrics'] = songs[i]\n",
    "    rap_corpus[titles[i]] = j"
   ]
  },
  {
   "cell_type": "code",
   "execution_count": 4,
   "metadata": {
    "collapsed": false
   },
   "outputs": [],
   "source": [
    "len(rap_corpus), rap_corpus"
   ]
  },
  {
   "cell_type": "markdown",
   "metadata": {},
   "source": [
    "#### Corpus Pickle"
   ]
  },
  {
   "cell_type": "code",
   "execution_count": 38,
   "metadata": {
    "collapsed": true
   },
   "outputs": [],
   "source": [
    "with open('first_corp.pkl', 'wb') as handle:\n",
    "    pickle.dump(rap_corpus, handle)"
   ]
  },
  {
   "cell_type": "code",
   "execution_count": 8,
   "metadata": {
    "collapsed": true
   },
   "outputs": [],
   "source": [
    "with open('first_corp.pkl', 'rb') as handle:\n",
    "    rap_corpus = pickle.load(handle)"
   ]
  },
  {
   "cell_type": "code",
   "execution_count": 10,
   "metadata": {
    "collapsed": false
   },
   "outputs": [
    {
     "data": {
      "text/plain": [
       "3274"
      ]
     },
     "execution_count": 10,
     "metadata": {},
     "output_type": "execute_result"
    }
   ],
   "source": [
    "len(rap_corpus)"
   ]
  },
  {
   "cell_type": "code",
   "execution_count": 7,
   "metadata": {
    "collapsed": false
   },
   "outputs": [],
   "source": [
    "#!wc -l *"
   ]
  },
  {
   "cell_type": "markdown",
   "metadata": {
    "collapsed": true
   },
   "source": [
    "## Round 2"
   ]
  },
  {
   "cell_type": "code",
   "execution_count": 2,
   "metadata": {
    "collapsed": true
   },
   "outputs": [],
   "source": [
    "urls2 = ['http://genius.com/search?q=fugees', 'http://genius.com/search?q=erykah+badu',\n",
    "        'http://genius.com/search?q=lauryn+hill', 'http://genius.com/search?q=outkast',\n",
    "        'http://genius.com/search?q=tribe+called+quest', 'http://genius.com/search?q=andre+3000',\n",
    "        'http://genius.com/search?q=de+la+soul', 'http://genius.com/search?q=cunninlynguists',\n",
    "        'http://genius.com/search?q=atmosphere', 'http://genius.com/search?q=aesop+rock',\n",
    "        'http://genius.com/search?q=gza', 'http://genius.com/search?q=kool+keith',\n",
    "        'http://genius.com/search?q=canibus', 'http://genius.com/search?q=rza',\n",
    "        'http://genius.com/search?q=the+roots', 'http://genius.com/search?q=killah+priest',\n",
    "        'http://genius.com/search?q=ghostface+killah', 'http://genius.com/search?q=blackalicious',\n",
    "        'http://genius.com/search?q=kool+g+rap', 'http://genius.com/search?q=redman',\n",
    "        'http://genius.com/search?q=e40', 'http://genius.com/search?q=mf+doom',\n",
    "        'http://genius.com/search?q=beastie+boys', 'http://genius.com/search?q=das+efx',\n",
    "        'http://genius.com/search?q=xzibit', 'http://genius.com/search?q=raekwon',\n",
    "        'http://genius.com/search?q=method+man', 'http://genius.com/search?q=wale',\n",
    "        'http://genius.com/search?q=busta+rhymes', 'http://genius.com/search?q=tech+n9ne']"
   ]
  },
  {
   "cell_type": "code",
   "execution_count": 4,
   "metadata": {
    "collapsed": true
   },
   "outputs": [],
   "source": [
    "search_list2 = ['Fugees', 'Erykah-badu', 'Lauryn-hill', 'Outkast', 'Andre-3000', 'De-la-soul',\n",
    "                'Cunninlynguists', 'Atmosphere', 'Aesop-rock', 'Gza', 'Kool-keith', 'Canibus',\n",
    "                'Rza', 'The-roots', 'Killah-priest', 'Ghostface-killah', 'Blackalicious',\n",
    "                'Kool-g-rap', 'Redman', 'E-40', 'Mf-doom', 'Beastie-boys', 'Das-efx', 'Xzibit',\n",
    "                'Raekwon', 'Method-man', 'Wale', 'Busta-rhymes', 'Tech-n9ne']\n",
    "sub_search2 = [i.split('-')[0] for i in search_list2]"
   ]
  },
  {
   "cell_type": "code",
   "execution_count": 8,
   "metadata": {
    "collapsed": false
   },
   "outputs": [
    {
     "name": "stderr",
     "output_type": "stream",
     "text": [
      "//anaconda/lib/python2.7/site-packages/bs4/__init__.py:166: UserWarning: No parser was explicitly specified, so I'm using the best available HTML parser for this system (\"lxml\"). This usually isn't a problem, but if you run this code on another system, or in a different virtual environment, it may use a different parser and behave differently.\n",
      "\n",
      "To get rid of this warning, change this:\n",
      "\n",
      " BeautifulSoup([your markup])\n",
      "\n",
      "to this:\n",
      "\n",
      " BeautifulSoup([your markup], \"lxml\")\n",
      "\n",
      "  markup_type=markup_type))\n"
     ]
    }
   ],
   "source": [
    "master_list2 = []\n",
    "driver = webdriver.Chrome(chromedriver)\n",
    "for url in urls2:\n",
    "    driver.get(url)\n",
    "    \n",
    "    # autoscroll\n",
    "    for i in range(20):\n",
    "        time.sleep(np.random.exponential(20, 1))\n",
    "        driver.execute_script(\"window.scrollTo(0, document.body.scrollHeight);\")\n",
    "    data2 = bf(driver.page_source)\n",
    "    temp_lst2 = []\n",
    "    \n",
    "    for link in data2.find_all('li', class_ = 'search_result'):\n",
    "        temp_lst2.append(str(link.a.get('href')))\n",
    "    master_list2.append([url.split('=')[1], temp_lst2])\n",
    "driver.close()"
   ]
  },
  {
   "cell_type": "markdown",
   "metadata": {},
   "source": [
    "#### Just checkin'"
   ]
  },
  {
   "cell_type": "code",
   "execution_count": 9,
   "metadata": {
    "collapsed": true
   },
   "outputs": [],
   "source": [
    "song_list2 = sum([j for i,j in master_list2],[])"
   ]
  },
  {
   "cell_type": "code",
   "execution_count": 19,
   "metadata": {
    "collapsed": false
   },
   "outputs": [
    {
     "data": {
      "text/plain": [
       "4928"
      ]
     },
     "execution_count": 19,
     "metadata": {},
     "output_type": "execute_result"
    }
   ],
   "source": [
    "len(song_list2)"
   ]
  },
  {
   "cell_type": "code",
   "execution_count": 12,
   "metadata": {
    "collapsed": false,
    "scrolled": false
   },
   "outputs": [],
   "source": [
    "for link in xrange(len(song_list2)):\n",
    "    print link, song_list2[link]"
   ]
  },
  {
   "cell_type": "code",
   "execution_count": 18,
   "metadata": {
    "collapsed": true
   },
   "outputs": [],
   "source": [
    "song_list2 = weed_out(song_list2, sub_search2)"
   ]
  },
  {
   "cell_type": "markdown",
   "metadata": {},
   "source": [
    "#### URL Pickle"
   ]
  },
  {
   "cell_type": "code",
   "execution_count": 20,
   "metadata": {
    "collapsed": true
   },
   "outputs": [],
   "source": [
    "with open('second_urls.pkl', 'wb') as handle:\n",
    "    pickle.dump(song_list2, handle)"
   ]
  },
  {
   "cell_type": "code",
   "execution_count": 2,
   "metadata": {
    "collapsed": true
   },
   "outputs": [],
   "source": [
    "with open('second_urls.pkl', 'rb') as handle:\n",
    "    song_list2 = pickle.load(handle)"
   ]
  },
  {
   "cell_type": "markdown",
   "metadata": {},
   "source": [
    "#### Scrapin'"
   ]
  },
  {
   "cell_type": "code",
   "execution_count": 7,
   "metadata": {
    "collapsed": false
   },
   "outputs": [
    {
     "name": "stderr",
     "output_type": "stream",
     "text": [
      "//anaconda/lib/python2.7/site-packages/bs4/__init__.py:166: UserWarning: No parser was explicitly specified, so I'm using the best available HTML parser for this system (\"lxml\"). This usually isn't a problem, but if you run this code on another system, or in a different virtual environment, it may use a different parser and behave differently.\n",
      "\n",
      "To get rid of this warning, change this:\n",
      "\n",
      " BeautifulSoup([your markup])\n",
      "\n",
      "to this:\n",
      "\n",
      " BeautifulSoup([your markup], \"lxml\")\n",
      "\n",
      "  markup_type=markup_type))\n"
     ]
    },
    {
     "ename": "KeyboardInterrupt",
     "evalue": "",
     "output_type": "error",
     "traceback": [
      "\u001b[0;31m---------------------------------------------------------------------------\u001b[0m",
      "\u001b[0;31mKeyboardInterrupt\u001b[0m                         Traceback (most recent call last)",
      "\u001b[0;32m<ipython-input-7-ecb1d16112ab>\u001b[0m in \u001b[0;36m<module>\u001b[0;34m()\u001b[0m\n\u001b[1;32m      6\u001b[0m \u001b[0;32mfor\u001b[0m \u001b[0mi\u001b[0m \u001b[0;32min\u001b[0m \u001b[0mxrange\u001b[0m\u001b[0;34m(\u001b[0m\u001b[0mlen\u001b[0m\u001b[0;34m(\u001b[0m\u001b[0msong_list2\u001b[0m\u001b[0;34m)\u001b[0m\u001b[0;34m)\u001b[0m\u001b[0;34m:\u001b[0m\u001b[0;34m\u001b[0m\u001b[0m\n\u001b[1;32m      7\u001b[0m     \u001b[0;31m# vary time between requests so as to not get kicked off\u001b[0m\u001b[0;34m\u001b[0m\u001b[0;34m\u001b[0m\u001b[0m\n\u001b[0;32m----> 8\u001b[0;31m     \u001b[0mtime\u001b[0m\u001b[0;34m.\u001b[0m\u001b[0msleep\u001b[0m\u001b[0;34m(\u001b[0m\u001b[0mnp\u001b[0m\u001b[0;34m.\u001b[0m\u001b[0mrandom\u001b[0m\u001b[0;34m.\u001b[0m\u001b[0mexponential\u001b[0m\u001b[0;34m(\u001b[0m\u001b[0;36m5\u001b[0m\u001b[0;34m,\u001b[0m \u001b[0;36m1\u001b[0m\u001b[0;34m)\u001b[0m\u001b[0;34m)\u001b[0m\u001b[0;34m\u001b[0m\u001b[0m\n\u001b[0m\u001b[1;32m      9\u001b[0m     \u001b[0mdata\u001b[0m \u001b[0;34m=\u001b[0m \u001b[0mbf\u001b[0m\u001b[0;34m(\u001b[0m\u001b[0mrequests\u001b[0m\u001b[0;34m.\u001b[0m\u001b[0mget\u001b[0m\u001b[0;34m(\u001b[0m\u001b[0msong_list2\u001b[0m\u001b[0;34m[\u001b[0m\u001b[0mi\u001b[0m\u001b[0;34m]\u001b[0m\u001b[0;34m)\u001b[0m\u001b[0;34m.\u001b[0m\u001b[0mtext\u001b[0m\u001b[0;34m)\u001b[0m\u001b[0;34m\u001b[0m\u001b[0m\n\u001b[1;32m     10\u001b[0m \u001b[0;34m\u001b[0m\u001b[0m\n",
      "\u001b[0;31mKeyboardInterrupt\u001b[0m: "
     ]
    }
   ],
   "source": [
    "artists2 = []\n",
    "dates2 = []\n",
    "songs2 = []\n",
    "titles2 = []\n",
    "\n",
    "for i in xrange(len(song_list2)):\n",
    "    # vary time between requests so as to not get kicked off\n",
    "    time.sleep(np.random.exponential(5, 1))\n",
    "    data = bf(requests.get(song_list2[i]).text)\n",
    "    \n",
    "    try:\n",
    "        # artist info (if multiple artists, append list. else append list of solo artist)\n",
    "        if len(data.find('span', class_=\"song_info-info\").text.encode('ascii','replace').replace('\\n','')) > 0:\n",
    "            artists2.append([data.find('a', class_=\"song_header-primary_info-primary_artist\").text.encode('ascii','replace') , \n",
    "                            data.find('span', class_=\"song_info-info\").text.encode('ascii','replace').replace('\\n','')])\n",
    "        else:\n",
    "            artists2.append([data.find('a', class_=\"song_header-primary_info-primary_artist\").text.encode('ascii','replace')])\n",
    "        \n",
    "        # date info\n",
    "        dates2.append(data.find('release-date').text.encode('ascii','replace').replace('\\n','')[12:])\n",
    "        \n",
    "        # lyrics info\n",
    "        song = ''\n",
    "        for i in xrange(2, len(data.findAll('a', class_='referent'))):\n",
    "            song += data.findAll('a', class_='referent')[i].text.encode('ascii','replace').replace(u'\\n','. ').replace(u'n\\u2019t','nt')\n",
    "            song += '. '\n",
    "        import unicodedata\n",
    "        song = unicodedata.normalize('NFKD', song).encode('ascii', 'ignore')\n",
    "        songs2.append(song)\n",
    "        \n",
    "        # title info\n",
    "        titles2.append(u''.join(data.find('h1', class_=\"song_header-primary_info-title\").text).encode('utf-8').strip())\n",
    "    except:\n",
    "        pass"
   ]
  },
  {
   "cell_type": "code",
   "execution_count": 25,
   "metadata": {
    "collapsed": true
   },
   "outputs": [],
   "source": [
    "half_corpus = {}\n",
    "for i in xrange(len(songs2)):\n",
    "    j = {}\n",
    "    j['artist'] = artists2[i]\n",
    "    j['date'] = dates2[i]\n",
    "    j['lyrics'] = songs2[i]\n",
    "    half_corpus[titles2[i]] = j"
   ]
  },
  {
   "cell_type": "code",
   "execution_count": 24,
   "metadata": {
    "collapsed": false
   },
   "outputs": [
    {
     "data": {
      "text/plain": [
       "2982"
      ]
     },
     "execution_count": 24,
     "metadata": {},
     "output_type": "execute_result"
    }
   ],
   "source": [
    "len(titles2)"
   ]
  },
  {
   "cell_type": "markdown",
   "metadata": {},
   "source": [
    "#### Half Corpus Pickle!"
   ]
  },
  {
   "cell_type": "code",
   "execution_count": 26,
   "metadata": {
    "collapsed": true
   },
   "outputs": [],
   "source": [
    "with open('half_corp.pkl', 'wb') as handle:\n",
    "    pickle.dump(half_corpus, handle)"
   ]
  },
  {
   "cell_type": "code",
   "execution_count": 11,
   "metadata": {
    "collapsed": true
   },
   "outputs": [],
   "source": [
    "with open('half_corp.pkl', 'rb') as handle:\n",
    "    first_half_corpus = pickle.load(handle)"
   ]
  },
  {
   "cell_type": "code",
   "execution_count": 13,
   "metadata": {
    "collapsed": false
   },
   "outputs": [
    {
     "data": {
      "text/plain": [
       "2851"
      ]
     },
     "execution_count": 13,
     "metadata": {},
     "output_type": "execute_result"
    }
   ],
   "source": [
    "len(first_half_corpus)"
   ]
  },
  {
   "cell_type": "code",
   "execution_count": 3,
   "metadata": {
    "collapsed": false
   },
   "outputs": [
    {
     "data": {
      "text/plain": [
       "'http://genius.com/Fugees-ready-or-not-lyrics'"
      ]
     },
     "execution_count": 3,
     "metadata": {},
     "output_type": "execute_result"
    }
   ],
   "source": [
    "song_list2[0]"
   ]
  },
  {
   "cell_type": "markdown",
   "metadata": {},
   "source": [
    "## Crawlera"
   ]
  },
  {
   "cell_type": "code",
   "execution_count": 6,
   "metadata": {
    "collapsed": false
   },
   "outputs": [
    {
     "name": "stdout",
     "output_type": "stream",
     "text": [
      "Enter proxy password for user 'aa5b6b9d3364479faa46615c8a84aa86':"
     ]
    },
    {
     "ename": "OSError",
     "evalue": "[Errno 5] Input/output error",
     "output_type": "error",
     "traceback": [
      "\u001b[0;31m---------------------------------------------------------------------------\u001b[0m",
      "\u001b[0;31mOSError\u001b[0m                                   Traceback (most recent call last)",
      "\u001b[0;32m<ipython-input-6-80ed403ada35>\u001b[0m in \u001b[0;36m<module>\u001b[0;34m()\u001b[0m\n\u001b[0;32m----> 1\u001b[0;31m \u001b[0mget_ipython\u001b[0m\u001b[0;34m(\u001b[0m\u001b[0;34m)\u001b[0m\u001b[0;34m.\u001b[0m\u001b[0msystem\u001b[0m\u001b[0;34m(\u001b[0m\u001b[0;34mu'curl -U aa5b6b9d3364479faa46615c8a84aa86 : -x proxy.crawlera.com:8010 http://genius.com/Fugees-ready-or-not-lyrics'\u001b[0m\u001b[0;34m)\u001b[0m\u001b[0;34m\u001b[0m\u001b[0m\n\u001b[0m",
      "\u001b[0;32m//anaconda/lib/python2.7/site-packages/IPython/core/interactiveshell.pyc\u001b[0m in \u001b[0;36msystem_piped\u001b[0;34m(self, cmd)\u001b[0m\n\u001b[1;32m   2385\u001b[0m         \u001b[0;31m# a non-None value would trigger :func:`sys.displayhook` calls.\u001b[0m\u001b[0;34m\u001b[0m\u001b[0;34m\u001b[0m\u001b[0m\n\u001b[1;32m   2386\u001b[0m         \u001b[0;31m# Instead, we store the exit_code in user_ns.\u001b[0m\u001b[0;34m\u001b[0m\u001b[0;34m\u001b[0m\u001b[0m\n\u001b[0;32m-> 2387\u001b[0;31m         \u001b[0mself\u001b[0m\u001b[0;34m.\u001b[0m\u001b[0muser_ns\u001b[0m\u001b[0;34m[\u001b[0m\u001b[0;34m'_exit_code'\u001b[0m\u001b[0;34m]\u001b[0m \u001b[0;34m=\u001b[0m \u001b[0msystem\u001b[0m\u001b[0;34m(\u001b[0m\u001b[0mself\u001b[0m\u001b[0;34m.\u001b[0m\u001b[0mvar_expand\u001b[0m\u001b[0;34m(\u001b[0m\u001b[0mcmd\u001b[0m\u001b[0;34m,\u001b[0m \u001b[0mdepth\u001b[0m\u001b[0;34m=\u001b[0m\u001b[0;36m1\u001b[0m\u001b[0;34m)\u001b[0m\u001b[0;34m)\u001b[0m\u001b[0;34m\u001b[0m\u001b[0m\n\u001b[0m\u001b[1;32m   2388\u001b[0m \u001b[0;34m\u001b[0m\u001b[0m\n\u001b[1;32m   2389\u001b[0m     \u001b[0;32mdef\u001b[0m \u001b[0msystem_raw\u001b[0m\u001b[0;34m(\u001b[0m\u001b[0mself\u001b[0m\u001b[0;34m,\u001b[0m \u001b[0mcmd\u001b[0m\u001b[0;34m)\u001b[0m\u001b[0;34m:\u001b[0m\u001b[0;34m\u001b[0m\u001b[0m\n",
      "\u001b[0;32m//anaconda/lib/python2.7/site-packages/IPython/utils/_process_posix.pyc\u001b[0m in \u001b[0;36msystem\u001b[0;34m(self, cmd)\u001b[0m\n\u001b[1;32m    171\u001b[0m             \u001b[0;31m# (the character is known as ETX for 'End of Text', see\u001b[0m\u001b[0;34m\u001b[0m\u001b[0;34m\u001b[0m\u001b[0m\n\u001b[1;32m    172\u001b[0m             \u001b[0;31m# curses.ascii.ETX).\u001b[0m\u001b[0;34m\u001b[0m\u001b[0;34m\u001b[0m\u001b[0m\n\u001b[0;32m--> 173\u001b[0;31m             \u001b[0mchild\u001b[0m\u001b[0;34m.\u001b[0m\u001b[0msendline\u001b[0m\u001b[0;34m(\u001b[0m\u001b[0mchr\u001b[0m\u001b[0;34m(\u001b[0m\u001b[0;36m3\u001b[0m\u001b[0;34m)\u001b[0m\u001b[0;34m)\u001b[0m\u001b[0;34m\u001b[0m\u001b[0m\n\u001b[0m\u001b[1;32m    174\u001b[0m             \u001b[0;31m# Read and print any more output the program might produce on its\u001b[0m\u001b[0;34m\u001b[0m\u001b[0;34m\u001b[0m\u001b[0m\n\u001b[1;32m    175\u001b[0m             \u001b[0;31m# way out.\u001b[0m\u001b[0;34m\u001b[0m\u001b[0;34m\u001b[0m\u001b[0m\n",
      "\u001b[0;32m//anaconda/lib/python2.7/site-packages/pexpect/__init__.pyc\u001b[0m in \u001b[0;36msendline\u001b[0;34m(self, s)\u001b[0m\n\u001b[1;32m   1094\u001b[0m \u001b[0;34m\u001b[0m\u001b[0m\n\u001b[1;32m   1095\u001b[0m         \u001b[0mn\u001b[0m \u001b[0;34m=\u001b[0m \u001b[0mself\u001b[0m\u001b[0;34m.\u001b[0m\u001b[0msend\u001b[0m\u001b[0;34m(\u001b[0m\u001b[0ms\u001b[0m\u001b[0;34m)\u001b[0m\u001b[0;34m\u001b[0m\u001b[0m\n\u001b[0;32m-> 1096\u001b[0;31m         \u001b[0mn\u001b[0m \u001b[0;34m=\u001b[0m \u001b[0mn\u001b[0m \u001b[0;34m+\u001b[0m \u001b[0mself\u001b[0m\u001b[0;34m.\u001b[0m\u001b[0msend\u001b[0m\u001b[0;34m(\u001b[0m\u001b[0mself\u001b[0m\u001b[0;34m.\u001b[0m\u001b[0mlinesep\u001b[0m\u001b[0;34m)\u001b[0m\u001b[0;34m\u001b[0m\u001b[0m\n\u001b[0m\u001b[1;32m   1097\u001b[0m         \u001b[0;32mreturn\u001b[0m \u001b[0mn\u001b[0m\u001b[0;34m\u001b[0m\u001b[0m\n\u001b[1;32m   1098\u001b[0m \u001b[0;34m\u001b[0m\u001b[0m\n",
      "\u001b[0;32m//anaconda/lib/python2.7/site-packages/pexpect/__init__.pyc\u001b[0m in \u001b[0;36msend\u001b[0;34m(self, s)\u001b[0m\n\u001b[1;32m   1084\u001b[0m         \u001b[0mself\u001b[0m\u001b[0;34m.\u001b[0m\u001b[0m_log\u001b[0m\u001b[0;34m(\u001b[0m\u001b[0ms\u001b[0m\u001b[0;34m,\u001b[0m \u001b[0;34m'send'\u001b[0m\u001b[0;34m)\u001b[0m\u001b[0;34m\u001b[0m\u001b[0m\n\u001b[1;32m   1085\u001b[0m \u001b[0;34m\u001b[0m\u001b[0m\n\u001b[0;32m-> 1086\u001b[0;31m         \u001b[0;32mreturn\u001b[0m \u001b[0mself\u001b[0m\u001b[0;34m.\u001b[0m\u001b[0m_send\u001b[0m\u001b[0;34m(\u001b[0m\u001b[0ms\u001b[0m\u001b[0;34m)\u001b[0m\u001b[0;34m\u001b[0m\u001b[0m\n\u001b[0m\u001b[1;32m   1087\u001b[0m \u001b[0;34m\u001b[0m\u001b[0m\n\u001b[1;32m   1088\u001b[0m     \u001b[0;32mdef\u001b[0m \u001b[0m_send\u001b[0m\u001b[0;34m(\u001b[0m\u001b[0mself\u001b[0m\u001b[0;34m,\u001b[0m \u001b[0ms\u001b[0m\u001b[0;34m)\u001b[0m\u001b[0;34m:\u001b[0m\u001b[0;34m\u001b[0m\u001b[0m\n",
      "\u001b[0;32m//anaconda/lib/python2.7/site-packages/pexpect/__init__.pyc\u001b[0m in \u001b[0;36m_send\u001b[0;34m(self, s)\u001b[0m\n\u001b[1;32m   1087\u001b[0m \u001b[0;34m\u001b[0m\u001b[0m\n\u001b[1;32m   1088\u001b[0m     \u001b[0;32mdef\u001b[0m \u001b[0m_send\u001b[0m\u001b[0;34m(\u001b[0m\u001b[0mself\u001b[0m\u001b[0;34m,\u001b[0m \u001b[0ms\u001b[0m\u001b[0;34m)\u001b[0m\u001b[0;34m:\u001b[0m\u001b[0;34m\u001b[0m\u001b[0m\n\u001b[0;32m-> 1089\u001b[0;31m         \u001b[0;32mreturn\u001b[0m \u001b[0mos\u001b[0m\u001b[0;34m.\u001b[0m\u001b[0mwrite\u001b[0m\u001b[0;34m(\u001b[0m\u001b[0mself\u001b[0m\u001b[0;34m.\u001b[0m\u001b[0mchild_fd\u001b[0m\u001b[0;34m,\u001b[0m \u001b[0ms\u001b[0m\u001b[0;34m)\u001b[0m\u001b[0;34m\u001b[0m\u001b[0m\n\u001b[0m\u001b[1;32m   1090\u001b[0m \u001b[0;34m\u001b[0m\u001b[0m\n\u001b[1;32m   1091\u001b[0m     \u001b[0;32mdef\u001b[0m \u001b[0msendline\u001b[0m\u001b[0;34m(\u001b[0m\u001b[0mself\u001b[0m\u001b[0;34m,\u001b[0m \u001b[0ms\u001b[0m\u001b[0;34m=\u001b[0m\u001b[0;34m''\u001b[0m\u001b[0;34m)\u001b[0m\u001b[0;34m:\u001b[0m\u001b[0;34m\u001b[0m\u001b[0m\n",
      "\u001b[0;31mOSError\u001b[0m: [Errno 5] Input/output error"
     ]
    }
   ],
   "source": [
    "!curl -U aa5b6b9d3364479faa46615c8a84aa86 : -x proxy.crawlera.com:8010 http://genius.com/Fugees-ready-or-not-lyrics"
   ]
  },
  {
   "cell_type": "code",
   "execution_count": 5,
   "metadata": {
    "collapsed": false
   },
   "outputs": [
    {
     "name": "stdout",
     "output_type": "stream",
     "text": [
      "  % Total    % Received % Xferd  Average Speed   Time    Time     Time  Current\n",
      "                                 Dload  Upload   Total   Spent    Left  Speed\n",
      "100  225k  100  225k    0     0  69398      0  0:00:03  0:00:03 --:--:-- 69422\n"
     ]
    }
   ],
   "source": [
    "!curl -U aa5b6b9d3364479faa46615c8a84aa86: -x proxy.crawlera.com:8010 http://genius.com/Fugees-ready-or-not-lyrics -o ready_or_not.html"
   ]
  },
  {
   "cell_type": "code",
   "execution_count": 11,
   "metadata": {
    "collapsed": false
   },
   "outputs": [],
   "source": [
    "!cd songs"
   ]
  },
  {
   "cell_type": "code",
   "execution_count": 7,
   "metadata": {
    "collapsed": true
   },
   "outputs": [],
   "source": [
    "!mkdir songs"
   ]
  },
  {
   "cell_type": "code",
   "execution_count": 9,
   "metadata": {
    "collapsed": true
   },
   "outputs": [],
   "source": [
    "!mv ready_or_not.html songs/"
   ]
  },
  {
   "cell_type": "code",
   "execution_count": 13,
   "metadata": {
    "collapsed": false
   },
   "outputs": [
    {
     "name": "stdout",
     "output_type": "stream",
     "text": [
      "GeniusAPI.ipynb       first_corp.pkl        second_urls.pkl\r\n",
      "README.md             first_urls.pkl        song_list.pkl\r\n",
      "artist_list.pkl       half_corp.pkl         \u001b[34msongs\u001b[m\u001b[m\r\n",
      "demo.py               scrape.py\r\n",
      "final_song_links.pkl  scraping_genius.ipynb\r\n"
     ]
    }
   ],
   "source": [
    "!ls"
   ]
  },
  {
   "cell_type": "code",
   "execution_count": null,
   "metadata": {
    "collapsed": true
   },
   "outputs": [],
   "source": []
  }
 ],
 "metadata": {
  "kernelspec": {
   "display_name": "Python 2",
   "language": "python",
   "name": "python2"
  },
  "language_info": {
   "codemirror_mode": {
    "name": "ipython",
    "version": 2
   },
   "file_extension": ".py",
   "mimetype": "text/x-python",
   "name": "python",
   "nbconvert_exporter": "python",
   "pygments_lexer": "ipython2",
   "version": "2.7.12"
  }
 },
 "nbformat": 4,
 "nbformat_minor": 0
}
